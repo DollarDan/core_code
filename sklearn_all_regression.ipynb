{
 "cells": [
  {
   "cell_type": "markdown",
   "metadata": {},
   "source": [
    "# SKLEARN ROAD MAP\n",
    "\n",
    "![ml_map.png](ml_map.png)"
   ]
  },
  {
   "cell_type": "markdown",
   "metadata": {},
   "source": [
    "## Supervised Learning"
   ]
  },
  {
   "cell_type": "code",
   "execution_count": 112,
   "metadata": {},
   "outputs": [
    {
     "name": "stdout",
     "output_type": "stream",
     "text": [
      "Downloading car-price-prediction.zip to e:\\core_code\n",
      "\n"
     ]
    },
    {
     "name": "stderr",
     "output_type": "stream",
     "text": [
      "\n",
      "  0%|          | 0.00/18.1k [00:00<?, ?B/s]\n",
      "100%|██████████| 18.1k/18.1k [00:00<00:00, 3.72MB/s]\n"
     ]
    }
   ],
   "source": [
    "# I will work with a actual data set to solve regression problem and with dummy dataset to understand.\n",
    "\n",
    "# !kaggle datasets list -s car-price-prediction/CarPrice_Assignment.csv\n",
    "\n",
    "!kaggle datasets download -d  hellbuoy/car-price-prediction\n",
    "\n",
    "\n"
   ]
  },
  {
   "cell_type": "code",
   "execution_count": 113,
   "metadata": {},
   "outputs": [],
   "source": [
    "import zipfile\n",
    "with zipfile.ZipFile('car-price-prediction.zip', 'r') as zip_ref:\n",
    "    zip_ref.extractall('e:\\core_code\\car_price')\n",
    "    \n",
    "import os\n",
    "os.listdir()\n",
    "\n",
    "import pandas as pd\n",
    "import numpy as np\n",
    "import seaborn as sns\n",
    "import matplotlib.pyplot as plt\n",
    "import warnings\n",
    "warnings.filterwarnings('ignore')\n",
    "\n",
    "\n"
   ]
  },
  {
   "cell_type": "code",
   "execution_count": 121,
   "metadata": {},
   "outputs": [
    {
     "data": {
      "text/html": [
       "<div>\n",
       "<style scoped>\n",
       "    .dataframe tbody tr th:only-of-type {\n",
       "        vertical-align: middle;\n",
       "    }\n",
       "\n",
       "    .dataframe tbody tr th {\n",
       "        vertical-align: top;\n",
       "    }\n",
       "\n",
       "    .dataframe thead th {\n",
       "        text-align: right;\n",
       "    }\n",
       "</style>\n",
       "<table border=\"1\" class=\"dataframe\">\n",
       "  <thead>\n",
       "    <tr style=\"text-align: right;\">\n",
       "      <th></th>\n",
       "      <th>car_ID</th>\n",
       "      <th>symboling</th>\n",
       "      <th>CarName</th>\n",
       "      <th>fueltype</th>\n",
       "      <th>aspiration</th>\n",
       "      <th>doornumber</th>\n",
       "      <th>carbody</th>\n",
       "      <th>drivewheel</th>\n",
       "      <th>enginelocation</th>\n",
       "      <th>wheelbase</th>\n",
       "      <th>...</th>\n",
       "      <th>enginesize</th>\n",
       "      <th>fuelsystem</th>\n",
       "      <th>boreratio</th>\n",
       "      <th>stroke</th>\n",
       "      <th>compressionratio</th>\n",
       "      <th>horsepower</th>\n",
       "      <th>peakrpm</th>\n",
       "      <th>citympg</th>\n",
       "      <th>highwaympg</th>\n",
       "      <th>price</th>\n",
       "    </tr>\n",
       "  </thead>\n",
       "  <tbody>\n",
       "    <tr>\n",
       "      <th>0</th>\n",
       "      <td>1</td>\n",
       "      <td>3</td>\n",
       "      <td>alfa-romero giulia</td>\n",
       "      <td>gas</td>\n",
       "      <td>std</td>\n",
       "      <td>two</td>\n",
       "      <td>convertible</td>\n",
       "      <td>rwd</td>\n",
       "      <td>front</td>\n",
       "      <td>88.6</td>\n",
       "      <td>...</td>\n",
       "      <td>130</td>\n",
       "      <td>mpfi</td>\n",
       "      <td>3.47</td>\n",
       "      <td>2.68</td>\n",
       "      <td>9.0</td>\n",
       "      <td>111</td>\n",
       "      <td>5000</td>\n",
       "      <td>21</td>\n",
       "      <td>27</td>\n",
       "      <td>13495.0</td>\n",
       "    </tr>\n",
       "    <tr>\n",
       "      <th>1</th>\n",
       "      <td>2</td>\n",
       "      <td>3</td>\n",
       "      <td>alfa-romero stelvio</td>\n",
       "      <td>gas</td>\n",
       "      <td>std</td>\n",
       "      <td>two</td>\n",
       "      <td>convertible</td>\n",
       "      <td>rwd</td>\n",
       "      <td>front</td>\n",
       "      <td>88.6</td>\n",
       "      <td>...</td>\n",
       "      <td>130</td>\n",
       "      <td>mpfi</td>\n",
       "      <td>3.47</td>\n",
       "      <td>2.68</td>\n",
       "      <td>9.0</td>\n",
       "      <td>111</td>\n",
       "      <td>5000</td>\n",
       "      <td>21</td>\n",
       "      <td>27</td>\n",
       "      <td>16500.0</td>\n",
       "    </tr>\n",
       "  </tbody>\n",
       "</table>\n",
       "<p>2 rows × 26 columns</p>\n",
       "</div>"
      ],
      "text/plain": [
       "   car_ID  symboling              CarName fueltype aspiration doornumber  \\\n",
       "0       1          3   alfa-romero giulia      gas        std        two   \n",
       "1       2          3  alfa-romero stelvio      gas        std        two   \n",
       "\n",
       "       carbody drivewheel enginelocation  wheelbase  ...  enginesize  \\\n",
       "0  convertible        rwd          front       88.6  ...         130   \n",
       "1  convertible        rwd          front       88.6  ...         130   \n",
       "\n",
       "   fuelsystem  boreratio  stroke compressionratio horsepower  peakrpm citympg  \\\n",
       "0        mpfi       3.47    2.68              9.0        111     5000      21   \n",
       "1        mpfi       3.47    2.68              9.0        111     5000      21   \n",
       "\n",
       "   highwaympg    price  \n",
       "0          27  13495.0  \n",
       "1          27  16500.0  \n",
       "\n",
       "[2 rows x 26 columns]"
      ]
     },
     "execution_count": 121,
     "metadata": {},
     "output_type": "execute_result"
    }
   ],
   "source": [
    "data = pd.read_csv(\"E:\\core_code\\car_price\\CarPrice_Assignment.csv\")\n",
    "data.head(2)"
   ]
  },
  {
   "cell_type": "code",
   "execution_count": 115,
   "metadata": {},
   "outputs": [
    {
     "data": {
      "text/plain": [
       "(205, 26)"
      ]
     },
     "execution_count": 115,
     "metadata": {},
     "output_type": "execute_result"
    }
   ],
   "source": [
    "data.shape"
   ]
  },
  {
   "cell_type": "code",
   "execution_count": 122,
   "metadata": {},
   "outputs": [
    {
     "data": {
      "text/plain": [
       "(205, 16)"
      ]
     },
     "execution_count": 122,
     "metadata": {},
     "output_type": "execute_result"
    }
   ],
   "source": [
    "data=data.select_dtypes(exclude=['object']) #excluding categorical columns for now\n",
    "data.shape"
   ]
  },
  {
   "cell_type": "code",
   "execution_count": 117,
   "metadata": {},
   "outputs": [
    {
     "data": {
      "text/plain": [
       "car_ID              0\n",
       "symboling           0\n",
       "wheelbase           0\n",
       "carlength           0\n",
       "carwidth            0\n",
       "carheight           0\n",
       "curbweight          0\n",
       "enginesize          0\n",
       "boreratio           0\n",
       "stroke              0\n",
       "compressionratio    0\n",
       "horsepower          0\n",
       "peakrpm             0\n",
       "citympg             0\n",
       "highwaympg          0\n",
       "price               0\n",
       "dtype: int64"
      ]
     },
     "execution_count": 117,
     "metadata": {},
     "output_type": "execute_result"
    }
   ],
   "source": [
    "data.isnull().sum()"
   ]
  },
  {
   "cell_type": "code",
   "execution_count": 119,
   "metadata": {},
   "outputs": [
    {
     "data": {
      "text/plain": [
       "highwaympg         -0.697599\n",
       "citympg            -0.685751\n",
       "car_ID             -0.109093\n",
       "peakrpm            -0.085267\n",
       "symboling          -0.079978\n",
       "compressionratio    0.067984\n",
       "stroke              0.079443\n",
       "carheight           0.119336\n",
       "boreratio           0.553173\n",
       "wheelbase           0.577816\n",
       "carlength           0.682920\n",
       "carwidth            0.759325\n",
       "horsepower          0.808139\n",
       "curbweight          0.835305\n",
       "enginesize          0.874145\n",
       "price               1.000000\n",
       "Name: price, dtype: float64"
      ]
     },
     "execution_count": 119,
     "metadata": {},
     "output_type": "execute_result"
    }
   ],
   "source": [
    "data.corr().price.sort_values()"
   ]
  },
  {
   "cell_type": "code",
   "execution_count": 123,
   "metadata": {},
   "outputs": [
    {
     "data": {
      "text/html": [
       "<div>\n",
       "<style scoped>\n",
       "    .dataframe tbody tr th:only-of-type {\n",
       "        vertical-align: middle;\n",
       "    }\n",
       "\n",
       "    .dataframe tbody tr th {\n",
       "        vertical-align: top;\n",
       "    }\n",
       "\n",
       "    .dataframe thead th {\n",
       "        text-align: right;\n",
       "    }\n",
       "</style>\n",
       "<table border=\"1\" class=\"dataframe\">\n",
       "  <thead>\n",
       "    <tr style=\"text-align: right;\">\n",
       "      <th></th>\n",
       "      <th>wheelbase</th>\n",
       "      <th>carlength</th>\n",
       "      <th>carwidth</th>\n",
       "      <th>carheight</th>\n",
       "      <th>curbweight</th>\n",
       "      <th>enginesize</th>\n",
       "      <th>boreratio</th>\n",
       "      <th>horsepower</th>\n",
       "      <th>citympg</th>\n",
       "      <th>highwaympg</th>\n",
       "      <th>price</th>\n",
       "    </tr>\n",
       "  </thead>\n",
       "  <tbody>\n",
       "    <tr>\n",
       "      <th>0</th>\n",
       "      <td>88.6</td>\n",
       "      <td>168.8</td>\n",
       "      <td>64.1</td>\n",
       "      <td>48.8</td>\n",
       "      <td>2548</td>\n",
       "      <td>130</td>\n",
       "      <td>3.47</td>\n",
       "      <td>111</td>\n",
       "      <td>21</td>\n",
       "      <td>27</td>\n",
       "      <td>13495.0</td>\n",
       "    </tr>\n",
       "    <tr>\n",
       "      <th>1</th>\n",
       "      <td>88.6</td>\n",
       "      <td>168.8</td>\n",
       "      <td>64.1</td>\n",
       "      <td>48.8</td>\n",
       "      <td>2548</td>\n",
       "      <td>130</td>\n",
       "      <td>3.47</td>\n",
       "      <td>111</td>\n",
       "      <td>21</td>\n",
       "      <td>27</td>\n",
       "      <td>16500.0</td>\n",
       "    </tr>\n",
       "  </tbody>\n",
       "</table>\n",
       "</div>"
      ],
      "text/plain": [
       "   wheelbase  carlength  carwidth  carheight  curbweight  enginesize  \\\n",
       "0       88.6      168.8      64.1       48.8        2548         130   \n",
       "1       88.6      168.8      64.1       48.8        2548         130   \n",
       "\n",
       "   boreratio  horsepower  citympg  highwaympg    price  \n",
       "0       3.47         111       21          27  13495.0  \n",
       "1       3.47         111       21          27  16500.0  "
      ]
     },
     "execution_count": 123,
     "metadata": {},
     "output_type": "execute_result"
    }
   ],
   "source": [
    "# Dropping least corelated columns\n",
    "data.drop(columns=['compressionratio', 'peakrpm',  'symboling', 'stroke', 'car_ID'], inplace = True)\n",
    "data.head(2)"
   ]
  },
  {
   "cell_type": "code",
   "execution_count": 125,
   "metadata": {},
   "outputs": [
    {
     "data": {
      "text/html": [
       "<div>\n",
       "<style scoped>\n",
       "    .dataframe tbody tr th:only-of-type {\n",
       "        vertical-align: middle;\n",
       "    }\n",
       "\n",
       "    .dataframe tbody tr th {\n",
       "        vertical-align: top;\n",
       "    }\n",
       "\n",
       "    .dataframe thead th {\n",
       "        text-align: right;\n",
       "    }\n",
       "</style>\n",
       "<table border=\"1\" class=\"dataframe\">\n",
       "  <thead>\n",
       "    <tr style=\"text-align: right;\">\n",
       "      <th></th>\n",
       "      <th>wheelbase</th>\n",
       "      <th>carlength</th>\n",
       "      <th>carwidth</th>\n",
       "      <th>carheight</th>\n",
       "      <th>curbweight</th>\n",
       "      <th>enginesize</th>\n",
       "      <th>boreratio</th>\n",
       "      <th>horsepower</th>\n",
       "      <th>citympg</th>\n",
       "      <th>highwaympg</th>\n",
       "      <th>price</th>\n",
       "    </tr>\n",
       "  </thead>\n",
       "  <tbody>\n",
       "    <tr>\n",
       "      <th>0</th>\n",
       "      <td>88.6</td>\n",
       "      <td>168.8</td>\n",
       "      <td>64.1</td>\n",
       "      <td>48.8</td>\n",
       "      <td>2548</td>\n",
       "      <td>130</td>\n",
       "      <td>3.47</td>\n",
       "      <td>111</td>\n",
       "      <td>21</td>\n",
       "      <td>27</td>\n",
       "      <td>13495.0</td>\n",
       "    </tr>\n",
       "    <tr>\n",
       "      <th>1</th>\n",
       "      <td>88.6</td>\n",
       "      <td>168.8</td>\n",
       "      <td>64.1</td>\n",
       "      <td>48.8</td>\n",
       "      <td>2548</td>\n",
       "      <td>130</td>\n",
       "      <td>3.47</td>\n",
       "      <td>111</td>\n",
       "      <td>21</td>\n",
       "      <td>27</td>\n",
       "      <td>16500.0</td>\n",
       "    </tr>\n",
       "    <tr>\n",
       "      <th>2</th>\n",
       "      <td>94.5</td>\n",
       "      <td>171.2</td>\n",
       "      <td>65.5</td>\n",
       "      <td>52.4</td>\n",
       "      <td>2823</td>\n",
       "      <td>152</td>\n",
       "      <td>2.68</td>\n",
       "      <td>154</td>\n",
       "      <td>19</td>\n",
       "      <td>26</td>\n",
       "      <td>16500.0</td>\n",
       "    </tr>\n",
       "    <tr>\n",
       "      <th>3</th>\n",
       "      <td>99.8</td>\n",
       "      <td>176.6</td>\n",
       "      <td>66.2</td>\n",
       "      <td>54.3</td>\n",
       "      <td>2337</td>\n",
       "      <td>109</td>\n",
       "      <td>3.19</td>\n",
       "      <td>102</td>\n",
       "      <td>24</td>\n",
       "      <td>30</td>\n",
       "      <td>13950.0</td>\n",
       "    </tr>\n",
       "    <tr>\n",
       "      <th>4</th>\n",
       "      <td>99.4</td>\n",
       "      <td>176.6</td>\n",
       "      <td>66.4</td>\n",
       "      <td>54.3</td>\n",
       "      <td>2824</td>\n",
       "      <td>136</td>\n",
       "      <td>3.19</td>\n",
       "      <td>115</td>\n",
       "      <td>18</td>\n",
       "      <td>22</td>\n",
       "      <td>17450.0</td>\n",
       "    </tr>\n",
       "  </tbody>\n",
       "</table>\n",
       "</div>"
      ],
      "text/plain": [
       "   wheelbase  carlength  carwidth  carheight  curbweight  enginesize  \\\n",
       "0       88.6      168.8      64.1       48.8        2548         130   \n",
       "1       88.6      168.8      64.1       48.8        2548         130   \n",
       "2       94.5      171.2      65.5       52.4        2823         152   \n",
       "3       99.8      176.6      66.2       54.3        2337         109   \n",
       "4       99.4      176.6      66.4       54.3        2824         136   \n",
       "\n",
       "   boreratio  horsepower  citympg  highwaympg    price  \n",
       "0       3.47         111       21          27  13495.0  \n",
       "1       3.47         111       21          27  16500.0  \n",
       "2       2.68         154       19          26  16500.0  \n",
       "3       3.19         102       24          30  13950.0  \n",
       "4       3.19         115       18          22  17450.0  "
      ]
     },
     "execution_count": 125,
     "metadata": {},
     "output_type": "execute_result"
    }
   ],
   "source": [
    "data.head()"
   ]
  },
  {
   "cell_type": "code",
   "execution_count": 127,
   "metadata": {},
   "outputs": [],
   "source": [
    "y = data['price']\n",
    "x = data.drop(columns='price')"
   ]
  },
  {
   "cell_type": "code",
   "execution_count": 128,
   "metadata": {},
   "outputs": [],
   "source": [
    "from sklearn.model_selection import train_test_split\n",
    "x_train, x_test, y_train, y_test =train_test_split(x,y, random_state=1)"
   ]
  },
  {
   "cell_type": "code",
   "execution_count": 130,
   "metadata": {},
   "outputs": [
    {
     "name": "stdout",
     "output_type": "stream",
     "text": [
      "x_train shape (153, 10)\n",
      "y_train shape (153,)\n",
      "x_test shape (52, 10)\n",
      "y_test shape (52,)\n"
     ]
    }
   ],
   "source": [
    "print(\"x_train shape\",x_train.shape)\n",
    "print(\"y_train shape\",y_train.shape)\n",
    "print(\"x_test shape\",x_test.shape)\n",
    "print(\"y_test shape\",y_test.shape)"
   ]
  },
  {
   "cell_type": "code",
   "execution_count": 137,
   "metadata": {},
   "outputs": [
    {
     "data": {
      "text/plain": [
       "array([0.5, 0.5])"
      ]
     },
     "execution_count": 137,
     "metadata": {},
     "output_type": "execute_result"
    }
   ],
   "source": [
    "# Linear Regression\n",
    "\n",
    "from sklearn import linear_model\n",
    "from sklearn.metrics import mean_squared_error\n",
    "LR = linear_model.LinearRegression()\n",
    "LR.fit([[0, 0], [1, 1], [2, 2]], [0, 1, 2])\n",
    "\n",
    "LR.coef_"
   ]
  },
  {
   "cell_type": "code",
   "execution_count": 138,
   "metadata": {},
   "outputs": [
    {
     "name": "stdout",
     "output_type": "stream",
     "text": [
      "0.8269656010274622\n"
     ]
    }
   ],
   "source": [
    "LR.fit(x_train, y_train)\n",
    "print(LR.score(x_train, y_train)) #training accuracy"
   ]
  },
  {
   "cell_type": "code",
   "execution_count": 139,
   "metadata": {},
   "outputs": [
    {
     "name": "stdout",
     "output_type": "stream",
     "text": [
      "-55999.0157877492\n",
      "[    6.81539064  -115.67988929   828.2216228    297.62965474\n",
      "     2.52716432    96.42455223 -1019.88396963    40.27759943\n",
      "  -246.54824666   157.4418519 ]\n"
     ]
    }
   ],
   "source": [
    "print(LR.intercept_) # intercept\n",
    "print(LR.coef_) # coefficient"
   ]
  },
  {
   "cell_type": "code",
   "execution_count": 140,
   "metadata": {},
   "outputs": [
    {
     "name": "stdout",
     "output_type": "stream",
     "text": [
      "0.8099624888216044\n"
     ]
    }
   ],
   "source": [
    "y_pred = LR.predict(x_test)\n",
    "print(LR.score(x_test, y_test))\n"
   ]
  },
  {
   "cell_type": "code",
   "execution_count": 143,
   "metadata": {},
   "outputs": [
    {
     "data": {
      "text/plain": [
       "12759577.206705127"
      ]
     },
     "execution_count": 143,
     "metadata": {},
     "output_type": "execute_result"
    }
   ],
   "source": [
    "mean_squared_error(y_pred, y_test)"
   ]
  },
  {
   "cell_type": "code",
   "execution_count": 146,
   "metadata": {},
   "outputs": [
    {
     "data": {
      "text/html": [
       "<div>\n",
       "<style scoped>\n",
       "    .dataframe tbody tr th:only-of-type {\n",
       "        vertical-align: middle;\n",
       "    }\n",
       "\n",
       "    .dataframe tbody tr th {\n",
       "        vertical-align: top;\n",
       "    }\n",
       "\n",
       "    .dataframe thead th {\n",
       "        text-align: right;\n",
       "    }\n",
       "</style>\n",
       "<table border=\"1\" class=\"dataframe\">\n",
       "  <thead>\n",
       "    <tr style=\"text-align: right;\">\n",
       "      <th></th>\n",
       "      <th>Algorithm</th>\n",
       "      <th>Train Acc</th>\n",
       "      <th>Test Accu</th>\n",
       "      <th>MSE</th>\n",
       "    </tr>\n",
       "  </thead>\n",
       "  <tbody>\n",
       "    <tr>\n",
       "      <th>0</th>\n",
       "      <td>Linear Regression</td>\n",
       "      <td>0.826966</td>\n",
       "      <td>0.809962</td>\n",
       "      <td>1.275958e+07</td>\n",
       "    </tr>\n",
       "  </tbody>\n",
       "</table>\n",
       "</div>"
      ],
      "text/plain": [
       "           Algorithm  Train Acc  Test Accu           MSE\n",
       "0  Linear Regression   0.826966   0.809962  1.275958e+07"
      ]
     },
     "execution_count": 146,
     "metadata": {},
     "output_type": "execute_result"
    }
   ],
   "source": [
    "# Lets have a comparision table\n",
    "final_df = pd.DataFrame(columns=[\"Algorithm\", \"Train Acc\", \"Test Accu\", \"MSE\"])\n",
    "final_df.loc[len(final_df.index)] = ['Linear Regression' , LR.score(x_train, y_train), LR.score(x_test, y_test), mean_squared_error(y_pred, y_test)]\n",
    "final_df"
   ]
  },
  {
   "cell_type": "code",
   "execution_count": 147,
   "metadata": {},
   "outputs": [
    {
     "data": {
      "text/html": [
       "<div>\n",
       "<style scoped>\n",
       "    .dataframe tbody tr th:only-of-type {\n",
       "        vertical-align: middle;\n",
       "    }\n",
       "\n",
       "    .dataframe tbody tr th {\n",
       "        vertical-align: top;\n",
       "    }\n",
       "\n",
       "    .dataframe thead th {\n",
       "        text-align: right;\n",
       "    }\n",
       "</style>\n",
       "<table border=\"1\" class=\"dataframe\">\n",
       "  <thead>\n",
       "    <tr style=\"text-align: right;\">\n",
       "      <th></th>\n",
       "      <th>Algorithm</th>\n",
       "      <th>Train Acc</th>\n",
       "      <th>Test Accu</th>\n",
       "      <th>MSE</th>\n",
       "    </tr>\n",
       "  </thead>\n",
       "  <tbody>\n",
       "    <tr>\n",
       "      <th>0</th>\n",
       "      <td>Linear Regression</td>\n",
       "      <td>0.826966</td>\n",
       "      <td>0.809962</td>\n",
       "      <td>1.275958e+07</td>\n",
       "    </tr>\n",
       "    <tr>\n",
       "      <th>1</th>\n",
       "      <td>Bayesion</td>\n",
       "      <td>0.813083</td>\n",
       "      <td>0.819980</td>\n",
       "      <td>1.208700e+07</td>\n",
       "    </tr>\n",
       "  </tbody>\n",
       "</table>\n",
       "</div>"
      ],
      "text/plain": [
       "           Algorithm  Train Acc  Test Accu           MSE\n",
       "0  Linear Regression   0.826966   0.809962  1.275958e+07\n",
       "1           Bayesion   0.813083   0.819980  1.208700e+07"
      ]
     },
     "execution_count": 147,
     "metadata": {},
     "output_type": "execute_result"
    }
   ],
   "source": [
    "Baye = linear_model.BayesianRidge()\n",
    "Baye.fit(x_train, y_train)\n",
    "y_pred = Baye.predict(x_test)\n",
    "\n",
    "final_df.loc[len(final_df.index)] = ['Bayesion' , Baye.score(x_train, y_train), Baye.score(x_test, y_test), mean_squared_error(y_pred, y_test)]\n",
    "final_df"
   ]
  },
  {
   "cell_type": "code",
   "execution_count": 148,
   "metadata": {},
   "outputs": [
    {
     "data": {
      "text/html": [
       "<div>\n",
       "<style scoped>\n",
       "    .dataframe tbody tr th:only-of-type {\n",
       "        vertical-align: middle;\n",
       "    }\n",
       "\n",
       "    .dataframe tbody tr th {\n",
       "        vertical-align: top;\n",
       "    }\n",
       "\n",
       "    .dataframe thead th {\n",
       "        text-align: right;\n",
       "    }\n",
       "</style>\n",
       "<table border=\"1\" class=\"dataframe\">\n",
       "  <thead>\n",
       "    <tr style=\"text-align: right;\">\n",
       "      <th></th>\n",
       "      <th>Algorithm</th>\n",
       "      <th>Train Acc</th>\n",
       "      <th>Test Accu</th>\n",
       "      <th>MSE</th>\n",
       "    </tr>\n",
       "  </thead>\n",
       "  <tbody>\n",
       "    <tr>\n",
       "      <th>0</th>\n",
       "      <td>Linear Regression</td>\n",
       "      <td>8.269656e-01</td>\n",
       "      <td>0.809962</td>\n",
       "      <td>1.275958e+07</td>\n",
       "    </tr>\n",
       "    <tr>\n",
       "      <th>1</th>\n",
       "      <td>Bayesion</td>\n",
       "      <td>8.130833e-01</td>\n",
       "      <td>0.819980</td>\n",
       "      <td>1.208700e+07</td>\n",
       "    </tr>\n",
       "    <tr>\n",
       "      <th>2</th>\n",
       "      <td>TweedieRegressor</td>\n",
       "      <td>2.220446e-16</td>\n",
       "      <td>-0.005710</td>\n",
       "      <td>6.746042e+07</td>\n",
       "    </tr>\n",
       "  </tbody>\n",
       "</table>\n",
       "</div>"
      ],
      "text/plain": [
       "           Algorithm     Train Acc  Test Accu           MSE\n",
       "0  Linear Regression  8.269656e-01   0.809962  1.275958e+07\n",
       "1           Bayesion  8.130833e-01   0.819980  1.208700e+07\n",
       "2   TweedieRegressor  2.220446e-16  -0.005710  6.746042e+07"
      ]
     },
     "execution_count": 148,
     "metadata": {},
     "output_type": "execute_result"
    }
   ],
   "source": [
    "from sklearn.linear_model import TweedieRegressor\n",
    "reg = TweedieRegressor(power=1, alpha=0.5, link='log')\n",
    "reg.fit(x_train, y_train)\n",
    "y_pred = reg.predict(x_test)\n",
    "\n",
    "final_df.loc[len(final_df.index)] = ['TweedieRegressor' , reg.score(x_train, y_train), reg.score(x_test, y_test), mean_squared_error(y_pred, y_test)]\n",
    "final_df"
   ]
  },
  {
   "cell_type": "code",
   "execution_count": 149,
   "metadata": {},
   "outputs": [
    {
     "data": {
      "text/html": [
       "<div>\n",
       "<style scoped>\n",
       "    .dataframe tbody tr th:only-of-type {\n",
       "        vertical-align: middle;\n",
       "    }\n",
       "\n",
       "    .dataframe tbody tr th {\n",
       "        vertical-align: top;\n",
       "    }\n",
       "\n",
       "    .dataframe thead th {\n",
       "        text-align: right;\n",
       "    }\n",
       "</style>\n",
       "<table border=\"1\" class=\"dataframe\">\n",
       "  <thead>\n",
       "    <tr style=\"text-align: right;\">\n",
       "      <th></th>\n",
       "      <th>Algorithm</th>\n",
       "      <th>Train Acc</th>\n",
       "      <th>Test Accu</th>\n",
       "      <th>MSE</th>\n",
       "    </tr>\n",
       "  </thead>\n",
       "  <tbody>\n",
       "    <tr>\n",
       "      <th>0</th>\n",
       "      <td>Linear Regression</td>\n",
       "      <td>8.269656e-01</td>\n",
       "      <td>0.809962</td>\n",
       "      <td>1.275958e+07</td>\n",
       "    </tr>\n",
       "    <tr>\n",
       "      <th>1</th>\n",
       "      <td>Bayesion</td>\n",
       "      <td>8.130833e-01</td>\n",
       "      <td>0.819980</td>\n",
       "      <td>1.208700e+07</td>\n",
       "    </tr>\n",
       "    <tr>\n",
       "      <th>2</th>\n",
       "      <td>TweedieRegressor</td>\n",
       "      <td>2.220446e-16</td>\n",
       "      <td>-0.005710</td>\n",
       "      <td>6.746042e+07</td>\n",
       "    </tr>\n",
       "    <tr>\n",
       "      <th>3</th>\n",
       "      <td>TweedieRegressor</td>\n",
       "      <td>8.269526e-01</td>\n",
       "      <td>0.810078</td>\n",
       "      <td>1.275182e+07</td>\n",
       "    </tr>\n",
       "  </tbody>\n",
       "</table>\n",
       "</div>"
      ],
      "text/plain": [
       "           Algorithm     Train Acc  Test Accu           MSE\n",
       "0  Linear Regression  8.269656e-01   0.809962  1.275958e+07\n",
       "1           Bayesion  8.130833e-01   0.819980  1.208700e+07\n",
       "2   TweedieRegressor  2.220446e-16  -0.005710  6.746042e+07\n",
       "3   TweedieRegressor  8.269526e-01   0.810078  1.275182e+07"
      ]
     },
     "execution_count": 149,
     "metadata": {},
     "output_type": "execute_result"
    }
   ],
   "source": [
    "from sklearn.linear_model import Ridge #https://machinelearningmastery.com/ridge-regression-with-python/\n",
    "reg = Ridge(alpha=1.0)\n",
    "reg.fit(x_train, y_train)\n",
    "y_pred = reg.predict(x_test)\n",
    "\n",
    "final_df.loc[len(final_df.index)] = ['Ridge' , reg.score(x_train, y_train), reg.score(x_test, y_test), mean_squared_error(y_pred, y_test)]\n",
    "final_df\n"
   ]
  },
  {
   "cell_type": "code",
   "execution_count": 150,
   "metadata": {},
   "outputs": [
    {
     "data": {
      "text/html": [
       "<div>\n",
       "<style scoped>\n",
       "    .dataframe tbody tr th:only-of-type {\n",
       "        vertical-align: middle;\n",
       "    }\n",
       "\n",
       "    .dataframe tbody tr th {\n",
       "        vertical-align: top;\n",
       "    }\n",
       "\n",
       "    .dataframe thead th {\n",
       "        text-align: right;\n",
       "    }\n",
       "</style>\n",
       "<table border=\"1\" class=\"dataframe\">\n",
       "  <thead>\n",
       "    <tr style=\"text-align: right;\">\n",
       "      <th></th>\n",
       "      <th>Algorithm</th>\n",
       "      <th>Train Acc</th>\n",
       "      <th>Test Accu</th>\n",
       "      <th>MSE</th>\n",
       "    </tr>\n",
       "  </thead>\n",
       "  <tbody>\n",
       "    <tr>\n",
       "      <th>0</th>\n",
       "      <td>Linear Regression</td>\n",
       "      <td>8.269656e-01</td>\n",
       "      <td>0.809962</td>\n",
       "      <td>1.275958e+07</td>\n",
       "    </tr>\n",
       "    <tr>\n",
       "      <th>1</th>\n",
       "      <td>Bayesion</td>\n",
       "      <td>8.130833e-01</td>\n",
       "      <td>0.819980</td>\n",
       "      <td>1.208700e+07</td>\n",
       "    </tr>\n",
       "    <tr>\n",
       "      <th>2</th>\n",
       "      <td>TweedieRegressor</td>\n",
       "      <td>2.220446e-16</td>\n",
       "      <td>-0.005710</td>\n",
       "      <td>6.746042e+07</td>\n",
       "    </tr>\n",
       "    <tr>\n",
       "      <th>3</th>\n",
       "      <td>TweedieRegressor</td>\n",
       "      <td>8.269526e-01</td>\n",
       "      <td>0.810078</td>\n",
       "      <td>1.275182e+07</td>\n",
       "    </tr>\n",
       "    <tr>\n",
       "      <th>4</th>\n",
       "      <td>TweedieRegressor</td>\n",
       "      <td>8.238288e-01</td>\n",
       "      <td>0.817080</td>\n",
       "      <td>1.228172e+07</td>\n",
       "    </tr>\n",
       "  </tbody>\n",
       "</table>\n",
       "</div>"
      ],
      "text/plain": [
       "           Algorithm     Train Acc  Test Accu           MSE\n",
       "0  Linear Regression  8.269656e-01   0.809962  1.275958e+07\n",
       "1           Bayesion  8.130833e-01   0.819980  1.208700e+07\n",
       "2   TweedieRegressor  2.220446e-16  -0.005710  6.746042e+07\n",
       "3   TweedieRegressor  8.269526e-01   0.810078  1.275182e+07\n",
       "4   TweedieRegressor  8.238288e-01   0.817080  1.228172e+07"
      ]
     },
     "execution_count": 150,
     "metadata": {},
     "output_type": "execute_result"
    }
   ],
   "source": [
    "from sklearn.linear_model import Lasso\n",
    "reg = Lasso(alpha=5,normalize=True, max_iter=1e5)\n",
    "reg.fit(x_train, y_train)\n",
    "y_pred = reg.predict(x_test)\n",
    "\n",
    "final_df.loc[len(final_df.index)] = ['Lasso' , reg.score(x_train, y_train), reg.score(x_test, y_test), mean_squared_error(y_pred, y_test)]\n",
    "final_df\n",
    "\n"
   ]
  },
  {
   "cell_type": "code",
   "execution_count": 153,
   "metadata": {},
   "outputs": [
    {
     "data": {
      "text/html": [
       "<div>\n",
       "<style scoped>\n",
       "    .dataframe tbody tr th:only-of-type {\n",
       "        vertical-align: middle;\n",
       "    }\n",
       "\n",
       "    .dataframe tbody tr th {\n",
       "        vertical-align: top;\n",
       "    }\n",
       "\n",
       "    .dataframe thead th {\n",
       "        text-align: right;\n",
       "    }\n",
       "</style>\n",
       "<table border=\"1\" class=\"dataframe\">\n",
       "  <thead>\n",
       "    <tr style=\"text-align: right;\">\n",
       "      <th></th>\n",
       "      <th>Algorithm</th>\n",
       "      <th>Train Acc</th>\n",
       "      <th>Test Accu</th>\n",
       "      <th>MSE</th>\n",
       "    </tr>\n",
       "  </thead>\n",
       "  <tbody>\n",
       "    <tr>\n",
       "      <th>0</th>\n",
       "      <td>Linear Regression</td>\n",
       "      <td>8.269656e-01</td>\n",
       "      <td>0.809962</td>\n",
       "      <td>1.275958e+07</td>\n",
       "    </tr>\n",
       "    <tr>\n",
       "      <th>1</th>\n",
       "      <td>Bayesion</td>\n",
       "      <td>8.130833e-01</td>\n",
       "      <td>0.819980</td>\n",
       "      <td>1.208700e+07</td>\n",
       "    </tr>\n",
       "    <tr>\n",
       "      <th>2</th>\n",
       "      <td>TweedieRegressor</td>\n",
       "      <td>2.220446e-16</td>\n",
       "      <td>-0.005710</td>\n",
       "      <td>6.746042e+07</td>\n",
       "    </tr>\n",
       "    <tr>\n",
       "      <th>3</th>\n",
       "      <td>TweedieRegressor</td>\n",
       "      <td>8.269526e-01</td>\n",
       "      <td>0.810078</td>\n",
       "      <td>1.275182e+07</td>\n",
       "    </tr>\n",
       "    <tr>\n",
       "      <th>4</th>\n",
       "      <td>TweedieRegressor</td>\n",
       "      <td>8.238288e-01</td>\n",
       "      <td>0.817080</td>\n",
       "      <td>1.228172e+07</td>\n",
       "    </tr>\n",
       "    <tr>\n",
       "      <th>5</th>\n",
       "      <td>PolynomialFeatures</td>\n",
       "      <td>9.643584e-01</td>\n",
       "      <td>0.817014</td>\n",
       "      <td>1.228614e+07</td>\n",
       "    </tr>\n",
       "  </tbody>\n",
       "</table>\n",
       "</div>"
      ],
      "text/plain": [
       "            Algorithm     Train Acc  Test Accu           MSE\n",
       "0   Linear Regression  8.269656e-01   0.809962  1.275958e+07\n",
       "1            Bayesion  8.130833e-01   0.819980  1.208700e+07\n",
       "2    TweedieRegressor  2.220446e-16  -0.005710  6.746042e+07\n",
       "3    TweedieRegressor  8.269526e-01   0.810078  1.275182e+07\n",
       "4    TweedieRegressor  8.238288e-01   0.817080  1.228172e+07\n",
       "5  PolynomialFeatures  9.643584e-01   0.817014  1.228614e+07"
      ]
     },
     "execution_count": 153,
     "metadata": {},
     "output_type": "execute_result"
    }
   ],
   "source": [
    "from sklearn.preprocessing import PolynomialFeatures\n",
    "from sklearn.linear_model import LinearRegression\n",
    "\n",
    "from sklearn.pipeline import Pipeline\n",
    "\n",
    "poly = PolynomialFeatures(degree=2)\n",
    "poly.fit_transform(x_train)\n",
    "model = Pipeline([('poly', PolynomialFeatures(degree=2)),\n",
    "                  ('linear', LinearRegression(fit_intercept=False))])\n",
    "model.fit(x_train, y_train)            \n",
    "\n",
    "y_pred = model.predict(x_test)\n",
    "\n",
    "final_df.loc[len(final_df.index)] = ['PolynomialFeatures' , model.score(x_train, y_train), model.score(x_test, y_test), mean_squared_error(y_pred, y_test)]\n",
    "final_df"
   ]
  },
  {
   "cell_type": "code",
   "execution_count": 154,
   "metadata": {},
   "outputs": [
    {
     "data": {
      "text/html": [
       "<div>\n",
       "<style scoped>\n",
       "    .dataframe tbody tr th:only-of-type {\n",
       "        vertical-align: middle;\n",
       "    }\n",
       "\n",
       "    .dataframe tbody tr th {\n",
       "        vertical-align: top;\n",
       "    }\n",
       "\n",
       "    .dataframe thead th {\n",
       "        text-align: right;\n",
       "    }\n",
       "</style>\n",
       "<table border=\"1\" class=\"dataframe\">\n",
       "  <thead>\n",
       "    <tr style=\"text-align: right;\">\n",
       "      <th></th>\n",
       "      <th>Algorithm</th>\n",
       "      <th>Train Acc</th>\n",
       "      <th>Test Accu</th>\n",
       "      <th>MSE</th>\n",
       "    </tr>\n",
       "  </thead>\n",
       "  <tbody>\n",
       "    <tr>\n",
       "      <th>0</th>\n",
       "      <td>Linear Regression</td>\n",
       "      <td>8.269656e-01</td>\n",
       "      <td>0.809962</td>\n",
       "      <td>1.275958e+07</td>\n",
       "    </tr>\n",
       "    <tr>\n",
       "      <th>1</th>\n",
       "      <td>Bayesion</td>\n",
       "      <td>8.130833e-01</td>\n",
       "      <td>0.819980</td>\n",
       "      <td>1.208700e+07</td>\n",
       "    </tr>\n",
       "    <tr>\n",
       "      <th>2</th>\n",
       "      <td>TweedieRegressor</td>\n",
       "      <td>2.220446e-16</td>\n",
       "      <td>-0.005710</td>\n",
       "      <td>6.746042e+07</td>\n",
       "    </tr>\n",
       "    <tr>\n",
       "      <th>3</th>\n",
       "      <td>TweedieRegressor</td>\n",
       "      <td>8.269526e-01</td>\n",
       "      <td>0.810078</td>\n",
       "      <td>1.275182e+07</td>\n",
       "    </tr>\n",
       "    <tr>\n",
       "      <th>4</th>\n",
       "      <td>TweedieRegressor</td>\n",
       "      <td>8.238288e-01</td>\n",
       "      <td>0.817080</td>\n",
       "      <td>1.228172e+07</td>\n",
       "    </tr>\n",
       "    <tr>\n",
       "      <th>5</th>\n",
       "      <td>PolynomialFeatures</td>\n",
       "      <td>9.643584e-01</td>\n",
       "      <td>0.817014</td>\n",
       "      <td>1.228614e+07</td>\n",
       "    </tr>\n",
       "    <tr>\n",
       "      <th>6</th>\n",
       "      <td>RANSACRegressor</td>\n",
       "      <td>4.881376e-01</td>\n",
       "      <td>0.591677</td>\n",
       "      <td>2.741577e+07</td>\n",
       "    </tr>\n",
       "  </tbody>\n",
       "</table>\n",
       "</div>"
      ],
      "text/plain": [
       "            Algorithm     Train Acc  Test Accu           MSE\n",
       "0   Linear Regression  8.269656e-01   0.809962  1.275958e+07\n",
       "1            Bayesion  8.130833e-01   0.819980  1.208700e+07\n",
       "2    TweedieRegressor  2.220446e-16  -0.005710  6.746042e+07\n",
       "3    TweedieRegressor  8.269526e-01   0.810078  1.275182e+07\n",
       "4    TweedieRegressor  8.238288e-01   0.817080  1.228172e+07\n",
       "5  PolynomialFeatures  9.643584e-01   0.817014  1.228614e+07\n",
       "6     RANSACRegressor  4.881376e-01   0.591677  2.741577e+07"
      ]
     },
     "execution_count": 154,
     "metadata": {},
     "output_type": "execute_result"
    }
   ],
   "source": [
    "from sklearn.linear_model import RANSACRegressor\n",
    "\n",
    "# Set RANSAC hyperparameters\n",
    "model = RANSACRegressor(LinearRegression(),\n",
    "\t\tmax_trials=4, \t\t# Number of Iterations\n",
    "\t\tmin_samples=2, \t\t# Minimum size of the sample\n",
    "\t\tloss='absolute_loss', \t# Metrics for loss\n",
    "\t\tresidual_threshold=10 \t# Threshold\n",
    "\t\t)\n",
    "\n",
    "# Train model\n",
    "model.fit(x_train, y_train)\n",
    "\n",
    "y_pred = model.predict(x_test)\n",
    "\n",
    "final_df.loc[len(final_df.index)] = ['RANSACRegressor' , model.score(x_train, y_train), model.score(x_test, y_test), mean_squared_error(y_pred, y_test)]\n",
    "final_df"
   ]
  },
  {
   "cell_type": "code",
   "execution_count": 155,
   "metadata": {},
   "outputs": [
    {
     "data": {
      "text/html": [
       "<div>\n",
       "<style scoped>\n",
       "    .dataframe tbody tr th:only-of-type {\n",
       "        vertical-align: middle;\n",
       "    }\n",
       "\n",
       "    .dataframe tbody tr th {\n",
       "        vertical-align: top;\n",
       "    }\n",
       "\n",
       "    .dataframe thead th {\n",
       "        text-align: right;\n",
       "    }\n",
       "</style>\n",
       "<table border=\"1\" class=\"dataframe\">\n",
       "  <thead>\n",
       "    <tr style=\"text-align: right;\">\n",
       "      <th></th>\n",
       "      <th>Algorithm</th>\n",
       "      <th>Train Acc</th>\n",
       "      <th>Test Accu</th>\n",
       "      <th>MSE</th>\n",
       "    </tr>\n",
       "  </thead>\n",
       "  <tbody>\n",
       "    <tr>\n",
       "      <th>0</th>\n",
       "      <td>Linear Regression</td>\n",
       "      <td>8.269656e-01</td>\n",
       "      <td>0.809962</td>\n",
       "      <td>1.275958e+07</td>\n",
       "    </tr>\n",
       "    <tr>\n",
       "      <th>1</th>\n",
       "      <td>Bayesion</td>\n",
       "      <td>8.130833e-01</td>\n",
       "      <td>0.819980</td>\n",
       "      <td>1.208700e+07</td>\n",
       "    </tr>\n",
       "    <tr>\n",
       "      <th>2</th>\n",
       "      <td>TweedieRegressor</td>\n",
       "      <td>2.220446e-16</td>\n",
       "      <td>-0.005710</td>\n",
       "      <td>6.746042e+07</td>\n",
       "    </tr>\n",
       "    <tr>\n",
       "      <th>3</th>\n",
       "      <td>TweedieRegressor</td>\n",
       "      <td>8.269526e-01</td>\n",
       "      <td>0.810078</td>\n",
       "      <td>1.275182e+07</td>\n",
       "    </tr>\n",
       "    <tr>\n",
       "      <th>4</th>\n",
       "      <td>TweedieRegressor</td>\n",
       "      <td>8.238288e-01</td>\n",
       "      <td>0.817080</td>\n",
       "      <td>1.228172e+07</td>\n",
       "    </tr>\n",
       "    <tr>\n",
       "      <th>5</th>\n",
       "      <td>PolynomialFeatures</td>\n",
       "      <td>9.643584e-01</td>\n",
       "      <td>0.817014</td>\n",
       "      <td>1.228614e+07</td>\n",
       "    </tr>\n",
       "    <tr>\n",
       "      <th>6</th>\n",
       "      <td>RANSACRegressor</td>\n",
       "      <td>4.881376e-01</td>\n",
       "      <td>0.591677</td>\n",
       "      <td>2.741577e+07</td>\n",
       "    </tr>\n",
       "    <tr>\n",
       "      <th>7</th>\n",
       "      <td>DecisionTreeRegressor</td>\n",
       "      <td>6.642377e-01</td>\n",
       "      <td>0.675085</td>\n",
       "      <td>2.181555e+07</td>\n",
       "    </tr>\n",
       "  </tbody>\n",
       "</table>\n",
       "</div>"
      ],
      "text/plain": [
       "               Algorithm     Train Acc  Test Accu           MSE\n",
       "0      Linear Regression  8.269656e-01   0.809962  1.275958e+07\n",
       "1               Bayesion  8.130833e-01   0.819980  1.208700e+07\n",
       "2       TweedieRegressor  2.220446e-16  -0.005710  6.746042e+07\n",
       "3       TweedieRegressor  8.269526e-01   0.810078  1.275182e+07\n",
       "4       TweedieRegressor  8.238288e-01   0.817080  1.228172e+07\n",
       "5     PolynomialFeatures  9.643584e-01   0.817014  1.228614e+07\n",
       "6        RANSACRegressor  4.881376e-01   0.591677  2.741577e+07\n",
       "7  DecisionTreeRegressor  6.642377e-01   0.675085  2.181555e+07"
      ]
     },
     "execution_count": 155,
     "metadata": {},
     "output_type": "execute_result"
    }
   ],
   "source": [
    "from sklearn.tree import DecisionTreeRegressor\n",
    "\n",
    "# Build decision tree\n",
    "model=DecisionTreeRegressor(max_depth=1)\n",
    "model.fit(x_train, y_train)\n",
    "\n",
    "y_pred = model.predict(x_test)\n",
    "\n",
    "final_df.loc[len(final_df.index)] = ['DecisionTreeRegressor' , model.score(x_train, y_train), model.score(x_test, y_test), mean_squared_error(y_pred, y_test)]\n",
    "final_df\n"
   ]
  },
  {
   "cell_type": "code",
   "execution_count": 156,
   "metadata": {},
   "outputs": [
    {
     "data": {
      "text/html": [
       "<div>\n",
       "<style scoped>\n",
       "    .dataframe tbody tr th:only-of-type {\n",
       "        vertical-align: middle;\n",
       "    }\n",
       "\n",
       "    .dataframe tbody tr th {\n",
       "        vertical-align: top;\n",
       "    }\n",
       "\n",
       "    .dataframe thead th {\n",
       "        text-align: right;\n",
       "    }\n",
       "</style>\n",
       "<table border=\"1\" class=\"dataframe\">\n",
       "  <thead>\n",
       "    <tr style=\"text-align: right;\">\n",
       "      <th></th>\n",
       "      <th>Algorithm</th>\n",
       "      <th>Train Acc</th>\n",
       "      <th>Test Accu</th>\n",
       "      <th>MSE</th>\n",
       "    </tr>\n",
       "  </thead>\n",
       "  <tbody>\n",
       "    <tr>\n",
       "      <th>0</th>\n",
       "      <td>Linear Regression</td>\n",
       "      <td>8.269656e-01</td>\n",
       "      <td>0.809962</td>\n",
       "      <td>1.275958e+07</td>\n",
       "    </tr>\n",
       "    <tr>\n",
       "      <th>1</th>\n",
       "      <td>Bayesion</td>\n",
       "      <td>8.130833e-01</td>\n",
       "      <td>0.819980</td>\n",
       "      <td>1.208700e+07</td>\n",
       "    </tr>\n",
       "    <tr>\n",
       "      <th>2</th>\n",
       "      <td>TweedieRegressor</td>\n",
       "      <td>2.220446e-16</td>\n",
       "      <td>-0.005710</td>\n",
       "      <td>6.746042e+07</td>\n",
       "    </tr>\n",
       "    <tr>\n",
       "      <th>3</th>\n",
       "      <td>TweedieRegressor</td>\n",
       "      <td>8.269526e-01</td>\n",
       "      <td>0.810078</td>\n",
       "      <td>1.275182e+07</td>\n",
       "    </tr>\n",
       "    <tr>\n",
       "      <th>4</th>\n",
       "      <td>TweedieRegressor</td>\n",
       "      <td>8.238288e-01</td>\n",
       "      <td>0.817080</td>\n",
       "      <td>1.228172e+07</td>\n",
       "    </tr>\n",
       "    <tr>\n",
       "      <th>5</th>\n",
       "      <td>PolynomialFeatures</td>\n",
       "      <td>9.643584e-01</td>\n",
       "      <td>0.817014</td>\n",
       "      <td>1.228614e+07</td>\n",
       "    </tr>\n",
       "    <tr>\n",
       "      <th>6</th>\n",
       "      <td>RANSACRegressor</td>\n",
       "      <td>4.881376e-01</td>\n",
       "      <td>0.591677</td>\n",
       "      <td>2.741577e+07</td>\n",
       "    </tr>\n",
       "    <tr>\n",
       "      <th>7</th>\n",
       "      <td>DecisionTreeRegressor</td>\n",
       "      <td>6.642377e-01</td>\n",
       "      <td>0.675085</td>\n",
       "      <td>2.181555e+07</td>\n",
       "    </tr>\n",
       "    <tr>\n",
       "      <th>8</th>\n",
       "      <td>RandomForestRegressor</td>\n",
       "      <td>9.873347e-01</td>\n",
       "      <td>0.936727</td>\n",
       "      <td>4.248295e+06</td>\n",
       "    </tr>\n",
       "  </tbody>\n",
       "</table>\n",
       "</div>"
      ],
      "text/plain": [
       "               Algorithm     Train Acc  Test Accu           MSE\n",
       "0      Linear Regression  8.269656e-01   0.809962  1.275958e+07\n",
       "1               Bayesion  8.130833e-01   0.819980  1.208700e+07\n",
       "2       TweedieRegressor  2.220446e-16  -0.005710  6.746042e+07\n",
       "3       TweedieRegressor  8.269526e-01   0.810078  1.275182e+07\n",
       "4       TweedieRegressor  8.238288e-01   0.817080  1.228172e+07\n",
       "5     PolynomialFeatures  9.643584e-01   0.817014  1.228614e+07\n",
       "6        RANSACRegressor  4.881376e-01   0.591677  2.741577e+07\n",
       "7  DecisionTreeRegressor  6.642377e-01   0.675085  2.181555e+07\n",
       "8  RandomForestRegressor  9.873347e-01   0.936727  4.248295e+06"
      ]
     },
     "execution_count": 156,
     "metadata": {},
     "output_type": "execute_result"
    }
   ],
   "source": [
    "from sklearn.ensemble import RandomForestRegressor\n",
    "\n",
    "# define used regressor\n",
    "model=RandomForestRegressor(n_estimators=20,\n",
    "                             max_depth=10,\n",
    "                             criterion='mse',\n",
    "                            )\n",
    "model.fit(x_train, y_train)\n",
    "\n",
    "y_pred = model.predict(x_test)\n",
    "\n",
    "final_df.loc[len(final_df.index)] = ['RandomForestRegressor' , model.score(x_train, y_train), model.score(x_test, y_test), mean_squared_error(y_pred, y_test)]\n",
    "final_df\n",
    "\n",
    "\n"
   ]
  },
  {
   "cell_type": "code",
   "execution_count": 157,
   "metadata": {},
   "outputs": [
    {
     "ename": "ValueError",
     "evalue": "Unknown label type: (array([24565.   ,  9258.   ,  8845.   ,  6295.   , 11248.   ,  8845.   ,\n       13860.   ,  8238.   , 11845.   , 10898.   , 12764.   , 15750.   ,\n        7898.   ,  6695.   ,  7299.   ,  9960.   , 19699.   , 11850.   ,\n       10345.   , 36880.   , 15250.   ,  5348.   , 18950.   , 35550.   ,\n        9298.   , 18344.   , 17075.   ,  7395.   ,  7349.   ,  7609.   ,\n        5499.   , 11549.   ,  8921.   , 20970.   , 34028.   , 14399.   ,\n       15985.   ,  7788.   ,  8949.   ,  8499.   ,  9995.   , 12940.   ,\n       21105.   , 12629.   , 15998.   ,  7975.   ,  8916.5  , 13200.   ,\n        7295.   ,  9538.   , 13295.   ,  7898.   , 16900.   ,  6918.   ,\n       21485.   ,  5572.   , 18420.   , 16503.   ,  5572.   ,  6649.   ,\n        8495.   , 16500.   , 31600.   ,  6989.   ,  8778.   , 17710.   ,\n        8449.   , 13495.   ,  7738.   ,  6189.   , 16695.   , 18280.   ,\n       10945.   , 16845.   ,  9279.   , 11595.   , 11048.   , 45400.   ,\n        6849.   ,  8013.   ,  9279.   , 22470.   , 16430.   ,  5399.   ,\n       14869.   ,  8358.   ,  9549.   , 22018.   ,  7957.   , 32528.   ,\n       17859.167,  9988.   , 17199.   ,  9495.   , 15510.   , 15580.   ,\n       12290.   , 11245.   , 30760.   , 12945.   ,  9639.   , 12440.   ,\n        9959.   ,  6795.   ,  7609.   ,  5389.   ,  6785.   ,  6229.   ,\n       13950.   , 10698.   , 36000.   , 11694.   ,  9895.   , 13415.   ,\n        6479.   ,  6692.   , 16630.   , 15690.   , 23875.   ,  8495.   ,\n       37028.   , 16500.   , 13645.   ,  6377.   , 10595.   , 10795.   ,\n       18920.   , 19045.   ,  7126.   ,  8189.   ,  7499.   , 28248.   ,\n        5195.   ,  7775.   ,  7198.   ,  6938.   ,  7053.   ,  7463.   ,\n       13499.   ,  6575.   , 16558.   ,  6692.   , 15040.   , 34184.   ,\n       31400.5  ,  9233.   , 13845.   ,  7689.   , 12170.   , 18620.   ,\n       35056.   ,  7603.   ,  7895.   ]),)",
     "output_type": "error",
     "traceback": [
      "\u001b[1;31m---------------------------------------------------------------------------\u001b[0m",
      "\u001b[1;31mValueError\u001b[0m                                Traceback (most recent call last)",
      "\u001b[1;32m~\\AppData\\Local\\Temp/ipykernel_6184/1865192402.py\u001b[0m in \u001b[0;36m<module>\u001b[1;34m\u001b[0m\n\u001b[0;32m      6\u001b[0m \u001b[1;33m\u001b[0m\u001b[0m\n\u001b[0;32m      7\u001b[0m \u001b[1;31m# Train Gaussian Process\u001b[0m\u001b[1;33m\u001b[0m\u001b[1;33m\u001b[0m\u001b[0m\n\u001b[1;32m----> 8\u001b[1;33m \u001b[0mmodel\u001b[0m \u001b[1;33m=\u001b[0m \u001b[0mGaussianProcessClassifier\u001b[0m\u001b[1;33m(\u001b[0m\u001b[0mkernel\u001b[0m\u001b[1;33m=\u001b[0m\u001b[0mkernel\u001b[0m\u001b[1;33m,\u001b[0m \u001b[0mrandom_state\u001b[0m\u001b[1;33m=\u001b[0m\u001b[1;36m0\u001b[0m\u001b[1;33m)\u001b[0m\u001b[1;33m.\u001b[0m\u001b[0mfit\u001b[0m\u001b[1;33m(\u001b[0m\u001b[0mx_train\u001b[0m\u001b[1;33m,\u001b[0m \u001b[0my_train\u001b[0m\u001b[1;33m)\u001b[0m\u001b[1;33m\u001b[0m\u001b[1;33m\u001b[0m\u001b[0m\n\u001b[0m\u001b[0;32m      9\u001b[0m \u001b[0my_pred\u001b[0m \u001b[1;33m=\u001b[0m \u001b[0mmodel\u001b[0m\u001b[1;33m.\u001b[0m\u001b[0mpredict\u001b[0m\u001b[1;33m(\u001b[0m\u001b[0mx_test\u001b[0m\u001b[1;33m)\u001b[0m\u001b[1;33m\u001b[0m\u001b[1;33m\u001b[0m\u001b[0m\n\u001b[0;32m     10\u001b[0m \u001b[1;33m\u001b[0m\u001b[0m\n",
      "\u001b[1;32mC:\\ProgramData\\Anaconda3\\lib\\site-packages\\sklearn\\gaussian_process\\_gpc.py\u001b[0m in \u001b[0;36mfit\u001b[1;34m(self, X, y)\u001b[0m\n\u001b[0;32m    662\u001b[0m                                  % self.multi_class)\n\u001b[0;32m    663\u001b[0m \u001b[1;33m\u001b[0m\u001b[0m\n\u001b[1;32m--> 664\u001b[1;33m         \u001b[0mself\u001b[0m\u001b[1;33m.\u001b[0m\u001b[0mbase_estimator_\u001b[0m\u001b[1;33m.\u001b[0m\u001b[0mfit\u001b[0m\u001b[1;33m(\u001b[0m\u001b[0mX\u001b[0m\u001b[1;33m,\u001b[0m \u001b[0my\u001b[0m\u001b[1;33m)\u001b[0m\u001b[1;33m\u001b[0m\u001b[1;33m\u001b[0m\u001b[0m\n\u001b[0m\u001b[0;32m    665\u001b[0m \u001b[1;33m\u001b[0m\u001b[0m\n\u001b[0;32m    666\u001b[0m         \u001b[1;32mif\u001b[0m \u001b[0mself\u001b[0m\u001b[1;33m.\u001b[0m\u001b[0mn_classes_\u001b[0m \u001b[1;33m>\u001b[0m \u001b[1;36m2\u001b[0m\u001b[1;33m:\u001b[0m\u001b[1;33m\u001b[0m\u001b[1;33m\u001b[0m\u001b[0m\n",
      "\u001b[1;32mC:\\ProgramData\\Anaconda3\\lib\\site-packages\\sklearn\\multiclass.py\u001b[0m in \u001b[0;36mfit\u001b[1;34m(self, X, y)\u001b[0m\n\u001b[0;32m    272\u001b[0m         \u001b[1;31m# overall.\u001b[0m\u001b[1;33m\u001b[0m\u001b[1;33m\u001b[0m\u001b[0m\n\u001b[0;32m    273\u001b[0m         \u001b[0mself\u001b[0m\u001b[1;33m.\u001b[0m\u001b[0mlabel_binarizer_\u001b[0m \u001b[1;33m=\u001b[0m \u001b[0mLabelBinarizer\u001b[0m\u001b[1;33m(\u001b[0m\u001b[0msparse_output\u001b[0m\u001b[1;33m=\u001b[0m\u001b[1;32mTrue\u001b[0m\u001b[1;33m)\u001b[0m\u001b[1;33m\u001b[0m\u001b[1;33m\u001b[0m\u001b[0m\n\u001b[1;32m--> 274\u001b[1;33m         \u001b[0mY\u001b[0m \u001b[1;33m=\u001b[0m \u001b[0mself\u001b[0m\u001b[1;33m.\u001b[0m\u001b[0mlabel_binarizer_\u001b[0m\u001b[1;33m.\u001b[0m\u001b[0mfit_transform\u001b[0m\u001b[1;33m(\u001b[0m\u001b[0my\u001b[0m\u001b[1;33m)\u001b[0m\u001b[1;33m\u001b[0m\u001b[1;33m\u001b[0m\u001b[0m\n\u001b[0m\u001b[0;32m    275\u001b[0m         \u001b[0mY\u001b[0m \u001b[1;33m=\u001b[0m \u001b[0mY\u001b[0m\u001b[1;33m.\u001b[0m\u001b[0mtocsc\u001b[0m\u001b[1;33m(\u001b[0m\u001b[1;33m)\u001b[0m\u001b[1;33m\u001b[0m\u001b[1;33m\u001b[0m\u001b[0m\n\u001b[0;32m    276\u001b[0m         \u001b[0mself\u001b[0m\u001b[1;33m.\u001b[0m\u001b[0mclasses_\u001b[0m \u001b[1;33m=\u001b[0m \u001b[0mself\u001b[0m\u001b[1;33m.\u001b[0m\u001b[0mlabel_binarizer_\u001b[0m\u001b[1;33m.\u001b[0m\u001b[0mclasses_\u001b[0m\u001b[1;33m\u001b[0m\u001b[1;33m\u001b[0m\u001b[0m\n",
      "\u001b[1;32mC:\\ProgramData\\Anaconda3\\lib\\site-packages\\sklearn\\preprocessing\\_label.py\u001b[0m in \u001b[0;36mfit_transform\u001b[1;34m(self, y)\u001b[0m\n\u001b[0;32m    319\u001b[0m             \u001b[0mwill\u001b[0m \u001b[0mbe\u001b[0m \u001b[0mof\u001b[0m \u001b[0mCSR\u001b[0m \u001b[0mformat\u001b[0m\u001b[1;33m.\u001b[0m\u001b[1;33m\u001b[0m\u001b[1;33m\u001b[0m\u001b[0m\n\u001b[0;32m    320\u001b[0m         \"\"\"\n\u001b[1;32m--> 321\u001b[1;33m         \u001b[1;32mreturn\u001b[0m \u001b[0mself\u001b[0m\u001b[1;33m.\u001b[0m\u001b[0mfit\u001b[0m\u001b[1;33m(\u001b[0m\u001b[0my\u001b[0m\u001b[1;33m)\u001b[0m\u001b[1;33m.\u001b[0m\u001b[0mtransform\u001b[0m\u001b[1;33m(\u001b[0m\u001b[0my\u001b[0m\u001b[1;33m)\u001b[0m\u001b[1;33m\u001b[0m\u001b[1;33m\u001b[0m\u001b[0m\n\u001b[0m\u001b[0;32m    322\u001b[0m \u001b[1;33m\u001b[0m\u001b[0m\n\u001b[0;32m    323\u001b[0m     \u001b[1;32mdef\u001b[0m \u001b[0mtransform\u001b[0m\u001b[1;33m(\u001b[0m\u001b[0mself\u001b[0m\u001b[1;33m,\u001b[0m \u001b[0my\u001b[0m\u001b[1;33m)\u001b[0m\u001b[1;33m:\u001b[0m\u001b[1;33m\u001b[0m\u001b[1;33m\u001b[0m\u001b[0m\n",
      "\u001b[1;32mC:\\ProgramData\\Anaconda3\\lib\\site-packages\\sklearn\\preprocessing\\_label.py\u001b[0m in \u001b[0;36mfit\u001b[1;34m(self, y)\u001b[0m\n\u001b[0;32m    295\u001b[0m \u001b[1;33m\u001b[0m\u001b[0m\n\u001b[0;32m    296\u001b[0m         \u001b[0mself\u001b[0m\u001b[1;33m.\u001b[0m\u001b[0msparse_input_\u001b[0m \u001b[1;33m=\u001b[0m \u001b[0msp\u001b[0m\u001b[1;33m.\u001b[0m\u001b[0missparse\u001b[0m\u001b[1;33m(\u001b[0m\u001b[0my\u001b[0m\u001b[1;33m)\u001b[0m\u001b[1;33m\u001b[0m\u001b[1;33m\u001b[0m\u001b[0m\n\u001b[1;32m--> 297\u001b[1;33m         \u001b[0mself\u001b[0m\u001b[1;33m.\u001b[0m\u001b[0mclasses_\u001b[0m \u001b[1;33m=\u001b[0m \u001b[0munique_labels\u001b[0m\u001b[1;33m(\u001b[0m\u001b[0my\u001b[0m\u001b[1;33m)\u001b[0m\u001b[1;33m\u001b[0m\u001b[1;33m\u001b[0m\u001b[0m\n\u001b[0m\u001b[0;32m    298\u001b[0m         \u001b[1;32mreturn\u001b[0m \u001b[0mself\u001b[0m\u001b[1;33m\u001b[0m\u001b[1;33m\u001b[0m\u001b[0m\n\u001b[0;32m    299\u001b[0m \u001b[1;33m\u001b[0m\u001b[0m\n",
      "\u001b[1;32mC:\\ProgramData\\Anaconda3\\lib\\site-packages\\sklearn\\utils\\multiclass.py\u001b[0m in \u001b[0;36munique_labels\u001b[1;34m(*ys)\u001b[0m\n\u001b[0;32m     96\u001b[0m     \u001b[0m_unique_labels\u001b[0m \u001b[1;33m=\u001b[0m \u001b[0m_FN_UNIQUE_LABELS\u001b[0m\u001b[1;33m.\u001b[0m\u001b[0mget\u001b[0m\u001b[1;33m(\u001b[0m\u001b[0mlabel_type\u001b[0m\u001b[1;33m,\u001b[0m \u001b[1;32mNone\u001b[0m\u001b[1;33m)\u001b[0m\u001b[1;33m\u001b[0m\u001b[1;33m\u001b[0m\u001b[0m\n\u001b[0;32m     97\u001b[0m     \u001b[1;32mif\u001b[0m \u001b[1;32mnot\u001b[0m \u001b[0m_unique_labels\u001b[0m\u001b[1;33m:\u001b[0m\u001b[1;33m\u001b[0m\u001b[1;33m\u001b[0m\u001b[0m\n\u001b[1;32m---> 98\u001b[1;33m         \u001b[1;32mraise\u001b[0m \u001b[0mValueError\u001b[0m\u001b[1;33m(\u001b[0m\u001b[1;34m\"Unknown label type: %s\"\u001b[0m \u001b[1;33m%\u001b[0m \u001b[0mrepr\u001b[0m\u001b[1;33m(\u001b[0m\u001b[0mys\u001b[0m\u001b[1;33m)\u001b[0m\u001b[1;33m)\u001b[0m\u001b[1;33m\u001b[0m\u001b[1;33m\u001b[0m\u001b[0m\n\u001b[0m\u001b[0;32m     99\u001b[0m \u001b[1;33m\u001b[0m\u001b[0m\n\u001b[0;32m    100\u001b[0m     \u001b[0mys_labels\u001b[0m \u001b[1;33m=\u001b[0m \u001b[0mset\u001b[0m\u001b[1;33m(\u001b[0m\u001b[0mchain\u001b[0m\u001b[1;33m.\u001b[0m\u001b[0mfrom_iterable\u001b[0m\u001b[1;33m(\u001b[0m\u001b[0m_unique_labels\u001b[0m\u001b[1;33m(\u001b[0m\u001b[0my\u001b[0m\u001b[1;33m)\u001b[0m \u001b[1;32mfor\u001b[0m \u001b[0my\u001b[0m \u001b[1;32min\u001b[0m \u001b[0mys\u001b[0m\u001b[1;33m)\u001b[0m\u001b[1;33m)\u001b[0m\u001b[1;33m\u001b[0m\u001b[1;33m\u001b[0m\u001b[0m\n",
      "\u001b[1;31mValueError\u001b[0m: Unknown label type: (array([24565.   ,  9258.   ,  8845.   ,  6295.   , 11248.   ,  8845.   ,\n       13860.   ,  8238.   , 11845.   , 10898.   , 12764.   , 15750.   ,\n        7898.   ,  6695.   ,  7299.   ,  9960.   , 19699.   , 11850.   ,\n       10345.   , 36880.   , 15250.   ,  5348.   , 18950.   , 35550.   ,\n        9298.   , 18344.   , 17075.   ,  7395.   ,  7349.   ,  7609.   ,\n        5499.   , 11549.   ,  8921.   , 20970.   , 34028.   , 14399.   ,\n       15985.   ,  7788.   ,  8949.   ,  8499.   ,  9995.   , 12940.   ,\n       21105.   , 12629.   , 15998.   ,  7975.   ,  8916.5  , 13200.   ,\n        7295.   ,  9538.   , 13295.   ,  7898.   , 16900.   ,  6918.   ,\n       21485.   ,  5572.   , 18420.   , 16503.   ,  5572.   ,  6649.   ,\n        8495.   , 16500.   , 31600.   ,  6989.   ,  8778.   , 17710.   ,\n        8449.   , 13495.   ,  7738.   ,  6189.   , 16695.   , 18280.   ,\n       10945.   , 16845.   ,  9279.   , 11595.   , 11048.   , 45400.   ,\n        6849.   ,  8013.   ,  9279.   , 22470.   , 16430.   ,  5399.   ,\n       14869.   ,  8358.   ,  9549.   , 22018.   ,  7957.   , 32528.   ,\n       17859.167,  9988.   , 17199.   ,  9495.   , 15510.   , 15580.   ,\n       12290.   , 11245.   , 30760.   , 12945.   ,  9639.   , 12440.   ,\n        9959.   ,  6795.   ,  7609.   ,  5389.   ,  6785.   ,  6229.   ,\n       13950.   , 10698.   , 36000.   , 11694.   ,  9895.   , 13415.   ,\n        6479.   ,  6692.   , 16630.   , 15690.   , 23875.   ,  8495.   ,\n       37028.   , 16500.   , 13645.   ,  6377.   , 10595.   , 10795.   ,\n       18920.   , 19045.   ,  7126.   ,  8189.   ,  7499.   , 28248.   ,\n        5195.   ,  7775.   ,  7198.   ,  6938.   ,  7053.   ,  7463.   ,\n       13499.   ,  6575.   , 16558.   ,  6692.   , 15040.   , 34184.   ,\n       31400.5  ,  9233.   , 13845.   ,  7689.   , 12170.   , 18620.   ,\n       35056.   ,  7603.   ,  7895.   ]),)"
     ]
    }
   ],
   "source": [
    "from sklearn.gaussian_process.kernels import RBF # https://towardsdatascience.com/7-of-the-most-commonly-used-regression-algorithms-and-how-to-choose-the-right-one-fc3c8890f9e3#b9a9\n",
    "from sklearn.gaussian_process import GaussianProcessClassifier\n",
    "\n",
    "# Definition of the Radial Basis Function (RBF) as kernel\n",
    "kernel =1.0 * RBF( length_scale=1.0 , length_scale_bounds=(1, 10.0))\n",
    "\n",
    "# Train Gaussian Process\n",
    "model = GaussianProcessClassifier(kernel=kernel, random_state=0).fit(x_train, y_train)\n",
    "y_pred = model.predict(x_test)\n",
    "\n",
    "final_df.loc[len(final_df.index)] = ['GaussianProcessClassifier' , model.score(x_train, y_train), model.score(x_test, y_test), mean_squared_error(y_pred, y_test)]\n",
    "final_df\n"
   ]
  },
  {
   "cell_type": "code",
   "execution_count": 158,
   "metadata": {},
   "outputs": [
    {
     "ename": "ValueError",
     "evalue": "Unknown label type: (array([24565.   ,  9258.   ,  8845.   ,  6295.   , 11248.   ,  8845.   ,\n       13860.   ,  8238.   , 11845.   , 10898.   , 12764.   , 15750.   ,\n        7898.   ,  6695.   ,  7299.   ,  9960.   , 19699.   , 11850.   ,\n       10345.   , 36880.   , 15250.   ,  5348.   , 18950.   , 35550.   ,\n        9298.   , 18344.   , 17075.   ,  7395.   ,  7349.   ,  7609.   ,\n        5499.   , 11549.   ,  8921.   , 20970.   , 34028.   , 14399.   ,\n       15985.   ,  7788.   ,  8949.   ,  8499.   ,  9995.   , 12940.   ,\n       21105.   , 12629.   , 15998.   ,  7975.   ,  8916.5  , 13200.   ,\n        7295.   ,  9538.   , 13295.   ,  7898.   , 16900.   ,  6918.   ,\n       21485.   ,  5572.   , 18420.   , 16503.   ,  5572.   ,  6649.   ,\n        8495.   , 16500.   , 31600.   ,  6989.   ,  8778.   , 17710.   ,\n        8449.   , 13495.   ,  7738.   ,  6189.   , 16695.   , 18280.   ,\n       10945.   , 16845.   ,  9279.   , 11595.   , 11048.   , 45400.   ,\n        6849.   ,  8013.   ,  9279.   , 22470.   , 16430.   ,  5399.   ,\n       14869.   ,  8358.   ,  9549.   , 22018.   ,  7957.   , 32528.   ,\n       17859.167,  9988.   , 17199.   ,  9495.   , 15510.   , 15580.   ,\n       12290.   , 11245.   , 30760.   , 12945.   ,  9639.   , 12440.   ,\n        9959.   ,  6795.   ,  7609.   ,  5389.   ,  6785.   ,  6229.   ,\n       13950.   , 10698.   , 36000.   , 11694.   ,  9895.   , 13415.   ,\n        6479.   ,  6692.   , 16630.   , 15690.   , 23875.   ,  8495.   ,\n       37028.   , 16500.   , 13645.   ,  6377.   , 10595.   , 10795.   ,\n       18920.   , 19045.   ,  7126.   ,  8189.   ,  7499.   , 28248.   ,\n        5195.   ,  7775.   ,  7198.   ,  6938.   ,  7053.   ,  7463.   ,\n       13499.   ,  6575.   , 16558.   ,  6692.   , 15040.   , 34184.   ,\n       31400.5  ,  9233.   , 13845.   ,  7689.   , 12170.   , 18620.   ,\n       35056.   ,  7603.   ,  7895.   ]),)",
     "output_type": "error",
     "traceback": [
      "\u001b[1;31m---------------------------------------------------------------------------\u001b[0m",
      "\u001b[1;31mValueError\u001b[0m                                Traceback (most recent call last)",
      "\u001b[1;32m~\\AppData\\Local\\Temp/ipykernel_6184/3357279285.py\u001b[0m in \u001b[0;36m<module>\u001b[1;34m\u001b[0m\n\u001b[0;32m      6\u001b[0m \u001b[1;33m\u001b[0m\u001b[0m\n\u001b[0;32m      7\u001b[0m \u001b[1;31m# Train Gaussian Process\u001b[0m\u001b[1;33m\u001b[0m\u001b[1;33m\u001b[0m\u001b[0m\n\u001b[1;32m----> 8\u001b[1;33m \u001b[0mgpc\u001b[0m \u001b[1;33m=\u001b[0m \u001b[0mGaussianProcessClassifier\u001b[0m\u001b[1;33m(\u001b[0m\u001b[0mkernel\u001b[0m\u001b[1;33m=\u001b[0m\u001b[0mkernel\u001b[0m\u001b[1;33m,\u001b[0m \u001b[0mrandom_state\u001b[0m\u001b[1;33m=\u001b[0m\u001b[1;36m0\u001b[0m\u001b[1;33m)\u001b[0m\u001b[1;33m.\u001b[0m\u001b[0mfit\u001b[0m\u001b[1;33m(\u001b[0m\u001b[0mx_train\u001b[0m\u001b[1;33m,\u001b[0m \u001b[0my_train\u001b[0m\u001b[1;33m)\u001b[0m\u001b[1;33m\u001b[0m\u001b[1;33m\u001b[0m\u001b[0m\n\u001b[0m",
      "\u001b[1;32mC:\\ProgramData\\Anaconda3\\lib\\site-packages\\sklearn\\gaussian_process\\_gpc.py\u001b[0m in \u001b[0;36mfit\u001b[1;34m(self, X, y)\u001b[0m\n\u001b[0;32m    662\u001b[0m                                  % self.multi_class)\n\u001b[0;32m    663\u001b[0m \u001b[1;33m\u001b[0m\u001b[0m\n\u001b[1;32m--> 664\u001b[1;33m         \u001b[0mself\u001b[0m\u001b[1;33m.\u001b[0m\u001b[0mbase_estimator_\u001b[0m\u001b[1;33m.\u001b[0m\u001b[0mfit\u001b[0m\u001b[1;33m(\u001b[0m\u001b[0mX\u001b[0m\u001b[1;33m,\u001b[0m \u001b[0my\u001b[0m\u001b[1;33m)\u001b[0m\u001b[1;33m\u001b[0m\u001b[1;33m\u001b[0m\u001b[0m\n\u001b[0m\u001b[0;32m    665\u001b[0m \u001b[1;33m\u001b[0m\u001b[0m\n\u001b[0;32m    666\u001b[0m         \u001b[1;32mif\u001b[0m \u001b[0mself\u001b[0m\u001b[1;33m.\u001b[0m\u001b[0mn_classes_\u001b[0m \u001b[1;33m>\u001b[0m \u001b[1;36m2\u001b[0m\u001b[1;33m:\u001b[0m\u001b[1;33m\u001b[0m\u001b[1;33m\u001b[0m\u001b[0m\n",
      "\u001b[1;32mC:\\ProgramData\\Anaconda3\\lib\\site-packages\\sklearn\\multiclass.py\u001b[0m in \u001b[0;36mfit\u001b[1;34m(self, X, y)\u001b[0m\n\u001b[0;32m    272\u001b[0m         \u001b[1;31m# overall.\u001b[0m\u001b[1;33m\u001b[0m\u001b[1;33m\u001b[0m\u001b[0m\n\u001b[0;32m    273\u001b[0m         \u001b[0mself\u001b[0m\u001b[1;33m.\u001b[0m\u001b[0mlabel_binarizer_\u001b[0m \u001b[1;33m=\u001b[0m \u001b[0mLabelBinarizer\u001b[0m\u001b[1;33m(\u001b[0m\u001b[0msparse_output\u001b[0m\u001b[1;33m=\u001b[0m\u001b[1;32mTrue\u001b[0m\u001b[1;33m)\u001b[0m\u001b[1;33m\u001b[0m\u001b[1;33m\u001b[0m\u001b[0m\n\u001b[1;32m--> 274\u001b[1;33m         \u001b[0mY\u001b[0m \u001b[1;33m=\u001b[0m \u001b[0mself\u001b[0m\u001b[1;33m.\u001b[0m\u001b[0mlabel_binarizer_\u001b[0m\u001b[1;33m.\u001b[0m\u001b[0mfit_transform\u001b[0m\u001b[1;33m(\u001b[0m\u001b[0my\u001b[0m\u001b[1;33m)\u001b[0m\u001b[1;33m\u001b[0m\u001b[1;33m\u001b[0m\u001b[0m\n\u001b[0m\u001b[0;32m    275\u001b[0m         \u001b[0mY\u001b[0m \u001b[1;33m=\u001b[0m \u001b[0mY\u001b[0m\u001b[1;33m.\u001b[0m\u001b[0mtocsc\u001b[0m\u001b[1;33m(\u001b[0m\u001b[1;33m)\u001b[0m\u001b[1;33m\u001b[0m\u001b[1;33m\u001b[0m\u001b[0m\n\u001b[0;32m    276\u001b[0m         \u001b[0mself\u001b[0m\u001b[1;33m.\u001b[0m\u001b[0mclasses_\u001b[0m \u001b[1;33m=\u001b[0m \u001b[0mself\u001b[0m\u001b[1;33m.\u001b[0m\u001b[0mlabel_binarizer_\u001b[0m\u001b[1;33m.\u001b[0m\u001b[0mclasses_\u001b[0m\u001b[1;33m\u001b[0m\u001b[1;33m\u001b[0m\u001b[0m\n",
      "\u001b[1;32mC:\\ProgramData\\Anaconda3\\lib\\site-packages\\sklearn\\preprocessing\\_label.py\u001b[0m in \u001b[0;36mfit_transform\u001b[1;34m(self, y)\u001b[0m\n\u001b[0;32m    319\u001b[0m             \u001b[0mwill\u001b[0m \u001b[0mbe\u001b[0m \u001b[0mof\u001b[0m \u001b[0mCSR\u001b[0m \u001b[0mformat\u001b[0m\u001b[1;33m.\u001b[0m\u001b[1;33m\u001b[0m\u001b[1;33m\u001b[0m\u001b[0m\n\u001b[0;32m    320\u001b[0m         \"\"\"\n\u001b[1;32m--> 321\u001b[1;33m         \u001b[1;32mreturn\u001b[0m \u001b[0mself\u001b[0m\u001b[1;33m.\u001b[0m\u001b[0mfit\u001b[0m\u001b[1;33m(\u001b[0m\u001b[0my\u001b[0m\u001b[1;33m)\u001b[0m\u001b[1;33m.\u001b[0m\u001b[0mtransform\u001b[0m\u001b[1;33m(\u001b[0m\u001b[0my\u001b[0m\u001b[1;33m)\u001b[0m\u001b[1;33m\u001b[0m\u001b[1;33m\u001b[0m\u001b[0m\n\u001b[0m\u001b[0;32m    322\u001b[0m \u001b[1;33m\u001b[0m\u001b[0m\n\u001b[0;32m    323\u001b[0m     \u001b[1;32mdef\u001b[0m \u001b[0mtransform\u001b[0m\u001b[1;33m(\u001b[0m\u001b[0mself\u001b[0m\u001b[1;33m,\u001b[0m \u001b[0my\u001b[0m\u001b[1;33m)\u001b[0m\u001b[1;33m:\u001b[0m\u001b[1;33m\u001b[0m\u001b[1;33m\u001b[0m\u001b[0m\n",
      "\u001b[1;32mC:\\ProgramData\\Anaconda3\\lib\\site-packages\\sklearn\\preprocessing\\_label.py\u001b[0m in \u001b[0;36mfit\u001b[1;34m(self, y)\u001b[0m\n\u001b[0;32m    295\u001b[0m \u001b[1;33m\u001b[0m\u001b[0m\n\u001b[0;32m    296\u001b[0m         \u001b[0mself\u001b[0m\u001b[1;33m.\u001b[0m\u001b[0msparse_input_\u001b[0m \u001b[1;33m=\u001b[0m \u001b[0msp\u001b[0m\u001b[1;33m.\u001b[0m\u001b[0missparse\u001b[0m\u001b[1;33m(\u001b[0m\u001b[0my\u001b[0m\u001b[1;33m)\u001b[0m\u001b[1;33m\u001b[0m\u001b[1;33m\u001b[0m\u001b[0m\n\u001b[1;32m--> 297\u001b[1;33m         \u001b[0mself\u001b[0m\u001b[1;33m.\u001b[0m\u001b[0mclasses_\u001b[0m \u001b[1;33m=\u001b[0m \u001b[0munique_labels\u001b[0m\u001b[1;33m(\u001b[0m\u001b[0my\u001b[0m\u001b[1;33m)\u001b[0m\u001b[1;33m\u001b[0m\u001b[1;33m\u001b[0m\u001b[0m\n\u001b[0m\u001b[0;32m    298\u001b[0m         \u001b[1;32mreturn\u001b[0m \u001b[0mself\u001b[0m\u001b[1;33m\u001b[0m\u001b[1;33m\u001b[0m\u001b[0m\n\u001b[0;32m    299\u001b[0m \u001b[1;33m\u001b[0m\u001b[0m\n",
      "\u001b[1;32mC:\\ProgramData\\Anaconda3\\lib\\site-packages\\sklearn\\utils\\multiclass.py\u001b[0m in \u001b[0;36munique_labels\u001b[1;34m(*ys)\u001b[0m\n\u001b[0;32m     96\u001b[0m     \u001b[0m_unique_labels\u001b[0m \u001b[1;33m=\u001b[0m \u001b[0m_FN_UNIQUE_LABELS\u001b[0m\u001b[1;33m.\u001b[0m\u001b[0mget\u001b[0m\u001b[1;33m(\u001b[0m\u001b[0mlabel_type\u001b[0m\u001b[1;33m,\u001b[0m \u001b[1;32mNone\u001b[0m\u001b[1;33m)\u001b[0m\u001b[1;33m\u001b[0m\u001b[1;33m\u001b[0m\u001b[0m\n\u001b[0;32m     97\u001b[0m     \u001b[1;32mif\u001b[0m \u001b[1;32mnot\u001b[0m \u001b[0m_unique_labels\u001b[0m\u001b[1;33m:\u001b[0m\u001b[1;33m\u001b[0m\u001b[1;33m\u001b[0m\u001b[0m\n\u001b[1;32m---> 98\u001b[1;33m         \u001b[1;32mraise\u001b[0m \u001b[0mValueError\u001b[0m\u001b[1;33m(\u001b[0m\u001b[1;34m\"Unknown label type: %s\"\u001b[0m \u001b[1;33m%\u001b[0m \u001b[0mrepr\u001b[0m\u001b[1;33m(\u001b[0m\u001b[0mys\u001b[0m\u001b[1;33m)\u001b[0m\u001b[1;33m)\u001b[0m\u001b[1;33m\u001b[0m\u001b[1;33m\u001b[0m\u001b[0m\n\u001b[0m\u001b[0;32m     99\u001b[0m \u001b[1;33m\u001b[0m\u001b[0m\n\u001b[0;32m    100\u001b[0m     \u001b[0mys_labels\u001b[0m \u001b[1;33m=\u001b[0m \u001b[0mset\u001b[0m\u001b[1;33m(\u001b[0m\u001b[0mchain\u001b[0m\u001b[1;33m.\u001b[0m\u001b[0mfrom_iterable\u001b[0m\u001b[1;33m(\u001b[0m\u001b[0m_unique_labels\u001b[0m\u001b[1;33m(\u001b[0m\u001b[0my\u001b[0m\u001b[1;33m)\u001b[0m \u001b[1;32mfor\u001b[0m \u001b[0my\u001b[0m \u001b[1;32min\u001b[0m \u001b[0mys\u001b[0m\u001b[1;33m)\u001b[0m\u001b[1;33m)\u001b[0m\u001b[1;33m\u001b[0m\u001b[1;33m\u001b[0m\u001b[0m\n",
      "\u001b[1;31mValueError\u001b[0m: Unknown label type: (array([24565.   ,  9258.   ,  8845.   ,  6295.   , 11248.   ,  8845.   ,\n       13860.   ,  8238.   , 11845.   , 10898.   , 12764.   , 15750.   ,\n        7898.   ,  6695.   ,  7299.   ,  9960.   , 19699.   , 11850.   ,\n       10345.   , 36880.   , 15250.   ,  5348.   , 18950.   , 35550.   ,\n        9298.   , 18344.   , 17075.   ,  7395.   ,  7349.   ,  7609.   ,\n        5499.   , 11549.   ,  8921.   , 20970.   , 34028.   , 14399.   ,\n       15985.   ,  7788.   ,  8949.   ,  8499.   ,  9995.   , 12940.   ,\n       21105.   , 12629.   , 15998.   ,  7975.   ,  8916.5  , 13200.   ,\n        7295.   ,  9538.   , 13295.   ,  7898.   , 16900.   ,  6918.   ,\n       21485.   ,  5572.   , 18420.   , 16503.   ,  5572.   ,  6649.   ,\n        8495.   , 16500.   , 31600.   ,  6989.   ,  8778.   , 17710.   ,\n        8449.   , 13495.   ,  7738.   ,  6189.   , 16695.   , 18280.   ,\n       10945.   , 16845.   ,  9279.   , 11595.   , 11048.   , 45400.   ,\n        6849.   ,  8013.   ,  9279.   , 22470.   , 16430.   ,  5399.   ,\n       14869.   ,  8358.   ,  9549.   , 22018.   ,  7957.   , 32528.   ,\n       17859.167,  9988.   , 17199.   ,  9495.   , 15510.   , 15580.   ,\n       12290.   , 11245.   , 30760.   , 12945.   ,  9639.   , 12440.   ,\n        9959.   ,  6795.   ,  7609.   ,  5389.   ,  6785.   ,  6229.   ,\n       13950.   , 10698.   , 36000.   , 11694.   ,  9895.   , 13415.   ,\n        6479.   ,  6692.   , 16630.   , 15690.   , 23875.   ,  8495.   ,\n       37028.   , 16500.   , 13645.   ,  6377.   , 10595.   , 10795.   ,\n       18920.   , 19045.   ,  7126.   ,  8189.   ,  7499.   , 28248.   ,\n        5195.   ,  7775.   ,  7198.   ,  6938.   ,  7053.   ,  7463.   ,\n       13499.   ,  6575.   , 16558.   ,  6692.   , 15040.   , 34184.   ,\n       31400.5  ,  9233.   , 13845.   ,  7689.   , 12170.   , 18620.   ,\n       35056.   ,  7603.   ,  7895.   ]),)"
     ]
    }
   ],
   "source": [
    "\n",
    "from sklearn.gaussian_process.kernels import RationalQuadratic\n",
    "from sklearn.gaussian_process import GaussianProcessClassifier\n",
    "\n",
    "# Definition of the Rational Quadratic Kernel\n",
    "kernel = 1.0 * RationalQuadratic ( length_scale=1.0 , alpha=0.1) \n",
    "\n",
    "# Train Gaussian Process\n",
    "gpc = GaussianProcessClassifier(kernel=kernel, random_state=0).fit(x_train, y_train)"
   ]
  },
  {
   "cell_type": "code",
   "execution_count": 160,
   "metadata": {},
   "outputs": [
    {
     "name": "stdout",
     "output_type": "stream",
     "text": [
      "5/5 [==============================] - 3s 190ms/step - loss: 242258288.0000 - accuracy: 0.0000e+00 - val_loss: 232389216.0000 - val_accuracy: 0.0000e+00\n"
     ]
    },
    {
     "data": {
      "text/plain": [
       "<keras.callbacks.History at 0x2246b218a30>"
      ]
     },
     "execution_count": 160,
     "metadata": {},
     "output_type": "execute_result"
    }
   ],
   "source": [
    "import tensorflow as tf\n",
    "from tensorflow.keras.layers import  Dense, Dropout\n",
    "from tensorflow.keras.models import Sequential\n",
    "tf.keras.backend.clear_session()\n",
    "model = Sequential()\n",
    "\n",
    "model.add(Dense(226, activation='relu'))\n",
    "model.add(Dropout(rate=0.2))\n",
    "#Add Fully Connected Layer with 10 units and activation function as 'softmax'\n",
    "model.add(Dense(1, activation='softmax'))\n",
    "# Compile the model\n",
    "model.compile(loss='MSE', metrics=['accuracy'], optimizer='adam')\n",
    "# Use earlystopping\n",
    "model.fit(x=x_train, y=y_train, batch_size=32, epochs=1, validation_data=(x_test, y_test))#, callbacks=[callback])\n",
    "# let`s train for few more epochs to improve the accuracy"
   ]
  },
  {
   "cell_type": "code",
   "execution_count": 161,
   "metadata": {},
   "outputs": [
    {
     "name": "stdout",
     "output_type": "stream",
     "text": [
      "Epoch 6/50\n",
      "5/5 [==============================] - 0s 55ms/step - loss: 242258288.0000 - accuracy: 0.0000e+00 - val_loss: 232389216.0000 - val_accuracy: 0.0000e+00\n",
      "Epoch 7/50\n",
      "5/5 [==============================] - 0s 21ms/step - loss: 242258288.0000 - accuracy: 0.0000e+00 - val_loss: 232389216.0000 - val_accuracy: 0.0000e+00\n",
      "Epoch 8/50\n",
      "5/5 [==============================] - 0s 24ms/step - loss: 242258288.0000 - accuracy: 0.0000e+00 - val_loss: 232389216.0000 - val_accuracy: 0.0000e+00\n",
      "Epoch 9/50\n",
      "5/5 [==============================] - 0s 30ms/step - loss: 242258272.0000 - accuracy: 0.0000e+00 - val_loss: 232389216.0000 - val_accuracy: 0.0000e+00\n",
      "Epoch 10/50\n",
      "5/5 [==============================] - 0s 30ms/step - loss: 242258288.0000 - accuracy: 0.0000e+00 - val_loss: 232389216.0000 - val_accuracy: 0.0000e+00\n",
      "Epoch 11/50\n",
      "5/5 [==============================] - 0s 34ms/step - loss: 242258288.0000 - accuracy: 0.0000e+00 - val_loss: 232389216.0000 - val_accuracy: 0.0000e+00\n",
      "Epoch 12/50\n",
      "5/5 [==============================] - 0s 45ms/step - loss: 242258320.0000 - accuracy: 0.0000e+00 - val_loss: 232389216.0000 - val_accuracy: 0.0000e+00\n",
      "Epoch 13/50\n",
      "5/5 [==============================] - 0s 34ms/step - loss: 242258320.0000 - accuracy: 0.0000e+00 - val_loss: 232389216.0000 - val_accuracy: 0.0000e+00\n",
      "Epoch 14/50\n",
      "5/5 [==============================] - 0s 35ms/step - loss: 242258320.0000 - accuracy: 0.0000e+00 - val_loss: 232389216.0000 - val_accuracy: 0.0000e+00\n",
      "Epoch 15/50\n",
      "5/5 [==============================] - 0s 35ms/step - loss: 242258320.0000 - accuracy: 0.0000e+00 - val_loss: 232389216.0000 - val_accuracy: 0.0000e+00\n",
      "Epoch 16/50\n",
      "5/5 [==============================] - 0s 31ms/step - loss: 242258288.0000 - accuracy: 0.0000e+00 - val_loss: 232389216.0000 - val_accuracy: 0.0000e+00\n",
      "Epoch 17/50\n",
      "5/5 [==============================] - 0s 30ms/step - loss: 242258288.0000 - accuracy: 0.0000e+00 - val_loss: 232389216.0000 - val_accuracy: 0.0000e+00\n",
      "Epoch 18/50\n",
      "5/5 [==============================] - 0s 31ms/step - loss: 242258288.0000 - accuracy: 0.0000e+00 - val_loss: 232389216.0000 - val_accuracy: 0.0000e+00\n",
      "Epoch 19/50\n",
      "5/5 [==============================] - 0s 45ms/step - loss: 242258288.0000 - accuracy: 0.0000e+00 - val_loss: 232389216.0000 - val_accuracy: 0.0000e+00\n",
      "Epoch 20/50\n",
      "5/5 [==============================] - 0s 30ms/step - loss: 242258288.0000 - accuracy: 0.0000e+00 - val_loss: 232389216.0000 - val_accuracy: 0.0000e+00\n",
      "Epoch 21/50\n",
      "5/5 [==============================] - 0s 30ms/step - loss: 242258272.0000 - accuracy: 0.0000e+00 - val_loss: 232389216.0000 - val_accuracy: 0.0000e+00\n",
      "Epoch 22/50\n",
      "5/5 [==============================] - 0s 43ms/step - loss: 242258288.0000 - accuracy: 0.0000e+00 - val_loss: 232389216.0000 - val_accuracy: 0.0000e+00\n",
      "Epoch 23/50\n",
      "5/5 [==============================] - 0s 29ms/step - loss: 242258288.0000 - accuracy: 0.0000e+00 - val_loss: 232389216.0000 - val_accuracy: 0.0000e+00\n",
      "Epoch 24/50\n",
      "5/5 [==============================] - 0s 27ms/step - loss: 242258288.0000 - accuracy: 0.0000e+00 - val_loss: 232389216.0000 - val_accuracy: 0.0000e+00\n",
      "Epoch 25/50\n",
      "5/5 [==============================] - 0s 26ms/step - loss: 242258288.0000 - accuracy: 0.0000e+00 - val_loss: 232389216.0000 - val_accuracy: 0.0000e+00\n",
      "Epoch 26/50\n",
      "5/5 [==============================] - 0s 27ms/step - loss: 242258288.0000 - accuracy: 0.0000e+00 - val_loss: 232389216.0000 - val_accuracy: 0.0000e+00\n",
      "Epoch 27/50\n",
      "5/5 [==============================] - 0s 23ms/step - loss: 242258288.0000 - accuracy: 0.0000e+00 - val_loss: 232389216.0000 - val_accuracy: 0.0000e+00\n",
      "Epoch 28/50\n",
      "5/5 [==============================] - 0s 22ms/step - loss: 242258320.0000 - accuracy: 0.0000e+00 - val_loss: 232389216.0000 - val_accuracy: 0.0000e+00\n",
      "Epoch 29/50\n",
      "5/5 [==============================] - 0s 24ms/step - loss: 242258288.0000 - accuracy: 0.0000e+00 - val_loss: 232389216.0000 - val_accuracy: 0.0000e+00\n",
      "Epoch 30/50\n",
      "5/5 [==============================] - 0s 28ms/step - loss: 242258288.0000 - accuracy: 0.0000e+00 - val_loss: 232389216.0000 - val_accuracy: 0.0000e+00\n",
      "Epoch 31/50\n",
      "5/5 [==============================] - 0s 27ms/step - loss: 242258288.0000 - accuracy: 0.0000e+00 - val_loss: 232389216.0000 - val_accuracy: 0.0000e+00\n",
      "Epoch 32/50\n",
      "5/5 [==============================] - 0s 26ms/step - loss: 242258288.0000 - accuracy: 0.0000e+00 - val_loss: 232389216.0000 - val_accuracy: 0.0000e+00\n",
      "Epoch 33/50\n",
      "5/5 [==============================] - 0s 29ms/step - loss: 242258320.0000 - accuracy: 0.0000e+00 - val_loss: 232389216.0000 - val_accuracy: 0.0000e+00\n",
      "Epoch 34/50\n",
      "5/5 [==============================] - 0s 26ms/step - loss: 242258272.0000 - accuracy: 0.0000e+00 - val_loss: 232389216.0000 - val_accuracy: 0.0000e+00\n",
      "Epoch 35/50\n",
      "5/5 [==============================] - 0s 35ms/step - loss: 242258288.0000 - accuracy: 0.0000e+00 - val_loss: 232389216.0000 - val_accuracy: 0.0000e+00\n",
      "Epoch 36/50\n",
      "5/5 [==============================] - 0s 27ms/step - loss: 242258288.0000 - accuracy: 0.0000e+00 - val_loss: 232389216.0000 - val_accuracy: 0.0000e+00\n",
      "Epoch 37/50\n",
      "5/5 [==============================] - 0s 24ms/step - loss: 242258288.0000 - accuracy: 0.0000e+00 - val_loss: 232389216.0000 - val_accuracy: 0.0000e+00\n",
      "Epoch 38/50\n",
      "5/5 [==============================] - 0s 33ms/step - loss: 242258320.0000 - accuracy: 0.0000e+00 - val_loss: 232389216.0000 - val_accuracy: 0.0000e+00\n",
      "Epoch 39/50\n",
      "5/5 [==============================] - 0s 30ms/step - loss: 242258288.0000 - accuracy: 0.0000e+00 - val_loss: 232389216.0000 - val_accuracy: 0.0000e+00\n",
      "Epoch 40/50\n",
      "5/5 [==============================] - 0s 27ms/step - loss: 242258288.0000 - accuracy: 0.0000e+00 - val_loss: 232389216.0000 - val_accuracy: 0.0000e+00\n",
      "Epoch 41/50\n",
      "5/5 [==============================] - 0s 25ms/step - loss: 242258288.0000 - accuracy: 0.0000e+00 - val_loss: 232389216.0000 - val_accuracy: 0.0000e+00\n",
      "Epoch 42/50\n",
      "5/5 [==============================] - 0s 30ms/step - loss: 242258288.0000 - accuracy: 0.0000e+00 - val_loss: 232389216.0000 - val_accuracy: 0.0000e+00\n",
      "Epoch 43/50\n",
      "5/5 [==============================] - 0s 34ms/step - loss: 242258288.0000 - accuracy: 0.0000e+00 - val_loss: 232389216.0000 - val_accuracy: 0.0000e+00\n",
      "Epoch 44/50\n",
      "5/5 [==============================] - 0s 26ms/step - loss: 242258288.0000 - accuracy: 0.0000e+00 - val_loss: 232389216.0000 - val_accuracy: 0.0000e+00\n",
      "Epoch 45/50\n",
      "5/5 [==============================] - 0s 25ms/step - loss: 242258288.0000 - accuracy: 0.0000e+00 - val_loss: 232389216.0000 - val_accuracy: 0.0000e+00\n",
      "Epoch 46/50\n",
      "5/5 [==============================] - 0s 25ms/step - loss: 242258288.0000 - accuracy: 0.0000e+00 - val_loss: 232389216.0000 - val_accuracy: 0.0000e+00\n",
      "Epoch 47/50\n",
      "5/5 [==============================] - 0s 26ms/step - loss: 242258320.0000 - accuracy: 0.0000e+00 - val_loss: 232389216.0000 - val_accuracy: 0.0000e+00\n",
      "Epoch 48/50\n",
      "5/5 [==============================] - 0s 38ms/step - loss: 242258288.0000 - accuracy: 0.0000e+00 - val_loss: 232389216.0000 - val_accuracy: 0.0000e+00\n",
      "Epoch 49/50\n",
      "5/5 [==============================] - 0s 26ms/step - loss: 242258288.0000 - accuracy: 0.0000e+00 - val_loss: 232389216.0000 - val_accuracy: 0.0000e+00\n",
      "Epoch 50/50\n",
      "5/5 [==============================] - 0s 19ms/step - loss: 242258288.0000 - accuracy: 0.0000e+00 - val_loss: 232389216.0000 - val_accuracy: 0.0000e+00\n"
     ]
    },
    {
     "data": {
      "text/plain": [
       "<keras.callbacks.History at 0x2246db0f490>"
      ]
     },
     "execution_count": 161,
     "metadata": {},
     "output_type": "execute_result"
    }
   ],
   "source": [
    "\n",
    "model.fit(x_train, y_train, batch_size = 32, epochs= 50, initial_epoch=5, validation_data=(x_test, y_test))"
   ]
  },
  {
   "cell_type": "code",
   "execution_count": 162,
   "metadata": {},
   "outputs": [
    {
     "name": "stdout",
     "output_type": "stream",
     "text": [
      "5/5 [==============================] - 0s 5ms/step - loss: 242258288.0000 - accuracy: 0.0000e+00\n",
      "2/2 [==============================] - 0s 8ms/step - loss: 232389216.0000 - accuracy: 0.0000e+00\n",
      "2/2 [==============================] - 0s 7ms/step - loss: 232389216.0000 - accuracy: 0.0000e+00\n"
     ]
    },
    {
     "data": {
      "text/html": [
       "<div>\n",
       "<style scoped>\n",
       "    .dataframe tbody tr th:only-of-type {\n",
       "        vertical-align: middle;\n",
       "    }\n",
       "\n",
       "    .dataframe tbody tr th {\n",
       "        vertical-align: top;\n",
       "    }\n",
       "\n",
       "    .dataframe thead th {\n",
       "        text-align: right;\n",
       "    }\n",
       "</style>\n",
       "<table border=\"1\" class=\"dataframe\">\n",
       "  <thead>\n",
       "    <tr style=\"text-align: right;\">\n",
       "      <th></th>\n",
       "      <th>Algorithm</th>\n",
       "      <th>Train Acc</th>\n",
       "      <th>Test Accu</th>\n",
       "      <th>MSE</th>\n",
       "    </tr>\n",
       "  </thead>\n",
       "  <tbody>\n",
       "    <tr>\n",
       "      <th>0</th>\n",
       "      <td>Linear Regression</td>\n",
       "      <td>8.269656e-01</td>\n",
       "      <td>0.809962</td>\n",
       "      <td>1.275958e+07</td>\n",
       "    </tr>\n",
       "    <tr>\n",
       "      <th>1</th>\n",
       "      <td>Bayesion</td>\n",
       "      <td>8.130833e-01</td>\n",
       "      <td>0.819980</td>\n",
       "      <td>1.208700e+07</td>\n",
       "    </tr>\n",
       "    <tr>\n",
       "      <th>2</th>\n",
       "      <td>TweedieRegressor</td>\n",
       "      <td>2.220446e-16</td>\n",
       "      <td>-0.005710</td>\n",
       "      <td>6.746042e+07</td>\n",
       "    </tr>\n",
       "    <tr>\n",
       "      <th>3</th>\n",
       "      <td>TweedieRegressor</td>\n",
       "      <td>8.269526e-01</td>\n",
       "      <td>0.810078</td>\n",
       "      <td>1.275182e+07</td>\n",
       "    </tr>\n",
       "    <tr>\n",
       "      <th>4</th>\n",
       "      <td>TweedieRegressor</td>\n",
       "      <td>8.238288e-01</td>\n",
       "      <td>0.817080</td>\n",
       "      <td>1.228172e+07</td>\n",
       "    </tr>\n",
       "    <tr>\n",
       "      <th>5</th>\n",
       "      <td>PolynomialFeatures</td>\n",
       "      <td>9.643584e-01</td>\n",
       "      <td>0.817014</td>\n",
       "      <td>1.228614e+07</td>\n",
       "    </tr>\n",
       "    <tr>\n",
       "      <th>6</th>\n",
       "      <td>RANSACRegressor</td>\n",
       "      <td>4.881376e-01</td>\n",
       "      <td>0.591677</td>\n",
       "      <td>2.741577e+07</td>\n",
       "    </tr>\n",
       "    <tr>\n",
       "      <th>7</th>\n",
       "      <td>DecisionTreeRegressor</td>\n",
       "      <td>6.642377e-01</td>\n",
       "      <td>0.675085</td>\n",
       "      <td>2.181555e+07</td>\n",
       "    </tr>\n",
       "    <tr>\n",
       "      <th>8</th>\n",
       "      <td>RandomForestRegressor</td>\n",
       "      <td>9.873347e-01</td>\n",
       "      <td>0.936727</td>\n",
       "      <td>4.248295e+06</td>\n",
       "    </tr>\n",
       "    <tr>\n",
       "      <th>9</th>\n",
       "      <td>ANN</td>\n",
       "      <td>0.000000e+00</td>\n",
       "      <td>0.000000</td>\n",
       "      <td>2.323892e+08</td>\n",
       "    </tr>\n",
       "  </tbody>\n",
       "</table>\n",
       "</div>"
      ],
      "text/plain": [
       "               Algorithm     Train Acc  Test Accu           MSE\n",
       "0      Linear Regression  8.269656e-01   0.809962  1.275958e+07\n",
       "1               Bayesion  8.130833e-01   0.819980  1.208700e+07\n",
       "2       TweedieRegressor  2.220446e-16  -0.005710  6.746042e+07\n",
       "3       TweedieRegressor  8.269526e-01   0.810078  1.275182e+07\n",
       "4       TweedieRegressor  8.238288e-01   0.817080  1.228172e+07\n",
       "5     PolynomialFeatures  9.643584e-01   0.817014  1.228614e+07\n",
       "6        RANSACRegressor  4.881376e-01   0.591677  2.741577e+07\n",
       "7  DecisionTreeRegressor  6.642377e-01   0.675085  2.181555e+07\n",
       "8  RandomForestRegressor  9.873347e-01   0.936727  4.248295e+06\n",
       "9                    ANN  0.000000e+00   0.000000  2.323892e+08"
      ]
     },
     "execution_count": 162,
     "metadata": {},
     "output_type": "execute_result"
    }
   ],
   "source": [
    "\n",
    "final_df.loc[len(final_df.index)] = ['ANN' , model.evaluate(x_train, y_train)[1], model.evaluate(x_test, y_test)[1], model.evaluate(x_test, y_test)[0]]\n",
    "final_df"
   ]
  },
  {
   "cell_type": "markdown",
   "metadata": {},
   "source": [
    "# PolynomialFeatures"
   ]
  }
 ],
 "metadata": {
  "interpreter": {
   "hash": "b3ba2566441a7c06988d0923437866b63cedc61552a5af99d1f4fb67d367b25f"
  },
  "kernelspec": {
   "display_name": "Python 3.9.7 ('base')",
   "language": "python",
   "name": "python3"
  },
  "language_info": {
   "codemirror_mode": {
    "name": "ipython",
    "version": 3
   },
   "file_extension": ".py",
   "mimetype": "text/x-python",
   "name": "python",
   "nbconvert_exporter": "python",
   "pygments_lexer": "ipython3",
   "version": "3.9.7"
  },
  "orig_nbformat": 4
 },
 "nbformat": 4,
 "nbformat_minor": 2
}
